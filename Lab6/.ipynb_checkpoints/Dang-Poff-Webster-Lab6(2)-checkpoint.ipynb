{
 "cells": [
  {
   "cell_type": "markdown",
   "metadata": {},
   "source": [
    "Name: Nathan Dang\n",
    "\n",
    "Partner: Charlie Poff-Webster\n",
    "\n",
    "Date: 04/07/2020\n",
    "\n",
    "DSCI225 - Applied Machine Learning\n",
    "\n",
    "Instructor: Prof. Basye"
   ]
  },
  {
   "cell_type": "markdown",
   "metadata": {},
   "source": [
    "# Lab 6 - All the Bells and Whistles\n",
    "\n",
    "Our task in this lab was to complete Exercise 10 in Chapter 10 of the Hands-on ML textbook, in which we built a DNN for MNIST (the digits, not fashion), doing a careful job of finding a good learning rate and adding some \"bells and whistles.\""
   ]
  },
  {
   "cell_type": "markdown",
   "metadata": {},
   "source": [
    "## Setup\n",
    "\n",
    "First, let's import a few common modules, ensure MatplotLib plots figures inline and prepare a function to save the figures. We also check that Python 3.5 or later is installed (although Python 2.x may work, it is deprecated so we strongly recommend you use Python 3 instead), as well as Scikit-Learn ≥0.20 and TensorFlow ≥2.0."
   ]
  },
  {
   "cell_type": "code",
   "execution_count": 1,
   "metadata": {},
   "outputs": [],
   "source": [
    "# Python ≥3.5 is required\n",
    "import sys\n",
    "assert sys.version_info >= (3, 5)\n",
    "\n",
    "# Scikit-Learn ≥0.20 is required\n",
    "import sklearn\n",
    "assert sklearn.__version__ >= \"0.20\"\n",
    "\n",
    "try:\n",
    "    # %tensorflow_version only exists in Colab.\n",
    "    %tensorflow_version 2.x\n",
    "except Exception:\n",
    "    pass\n",
    "\n",
    "# TensorFlow ≥2.0 is required\n",
    "import tensorflow as tf\n",
    "assert tf.__version__ >= \"2.0\"\n",
    "\n",
    "# Common imports\n",
    "import numpy as np\n",
    "import os\n",
    "\n",
    "# to make this notebook's output stable across runs\n",
    "np.random.seed(42)\n",
    "\n",
    "# To plot pretty figures\n",
    "%matplotlib inline\n",
    "import matplotlib as mpl\n",
    "import matplotlib.pyplot as plt\n",
    "mpl.rc('axes', labelsize=14)\n",
    "mpl.rc('xtick', labelsize=12)\n",
    "mpl.rc('ytick', labelsize=12)\n",
    "\n",
    "# Where to save the figures\n",
    "PROJECT_ROOT_DIR = \".\"\n",
    "CHAPTER_ID = \"ann\"\n",
    "IMAGES_PATH = os.path.join(PROJECT_ROOT_DIR, \"images\", CHAPTER_ID)\n",
    "os.makedirs(IMAGES_PATH, exist_ok=True)\n",
    "\n",
    "def save_fig(fig_id, tight_layout=True, fig_extension=\"png\", resolution=300):\n",
    "    path = os.path.join(IMAGES_PATH, fig_id + \".\" + fig_extension)\n",
    "    print(\"Saving figure\", fig_id)\n",
    "    if tight_layout:\n",
    "        plt.tight_layout()\n",
    "    plt.savefig(path, format=fig_extension, dpi=resolution)\n",
    "\n",
    "# Ignore useless warnings (see SciPy issue #5998)\n",
    "import warnings\n",
    "warnings.filterwarnings(action=\"ignore\", message=\"^internal gelsd\")"
   ]
  },
  {
   "cell_type": "markdown",
   "metadata": {},
   "source": [
    "Import the keras package from tensorflow and get the MNIST dataset"
   ]
  },
  {
   "cell_type": "code",
   "execution_count": 2,
   "metadata": {},
   "outputs": [],
   "source": [
    "from tensorflow import keras\n",
    "(X_train_full, y_train_full), (X_test, y_test) = keras.datasets.mnist.load_data()"
   ]
  },
  {
   "cell_type": "code",
   "execution_count": 3,
   "metadata": {},
   "outputs": [
    {
     "data": {
      "text/plain": [
       "(60000, 28, 28)"
      ]
     },
     "execution_count": 3,
     "metadata": {},
     "output_type": "execute_result"
    }
   ],
   "source": [
    "X_train_full.shape"
   ]
  },
  {
   "cell_type": "markdown",
   "metadata": {},
   "source": [
    "Let's split the full training set into a validation set and a (smaller) training set. Instead of using 5000 images for the validation set and the rest for training set, we splitted using the ratio 7:3, i.e. the training set had 42000 images and the validation set had 18000 images. Also, the values of the images stayed the same instead of being scaled like in the chapter notebook."
   ]
  },
  {
   "cell_type": "code",
   "execution_count": 4,
   "metadata": {},
   "outputs": [],
   "source": [
    "from sklearn.model_selection import train_test_split\n",
    "X_train, X_val, y_train, y_val = train_test_split(X_train_full, y_train_full, random_state=100, train_size=0.7) "
   ]
  },
  {
   "cell_type": "code",
   "execution_count": 5,
   "metadata": {},
   "outputs": [
    {
     "data": {
      "text/plain": [
       "(42000, 28, 28)"
      ]
     },
     "execution_count": 5,
     "metadata": {},
     "output_type": "execute_result"
    }
   ],
   "source": [
    "X_train.shape"
   ]
  },
  {
   "cell_type": "code",
   "execution_count": 6,
   "metadata": {},
   "outputs": [
    {
     "data": {
      "text/plain": [
       "(18000, 28, 28)"
      ]
     },
     "execution_count": 6,
     "metadata": {},
     "output_type": "execute_result"
    }
   ],
   "source": [
    "X_val.shape"
   ]
  },
  {
   "cell_type": "markdown",
   "metadata": {},
   "source": [
    "Let's have some visualisation of some images inside the training set."
   ]
  },
  {
   "cell_type": "code",
   "execution_count": 7,
   "metadata": {},
   "outputs": [
    {
     "data": {
      "image/png": "[encoded data removed]",
      "text/plain": [
       "<Figure size 864x345.6 with 40 Axes>"
      ]
     },
     "metadata": {
      "needs_background": "light"
     },
     "output_type": "display_data"
    }
   ],
   "source": [
    "n_rows = 4\n",
    "n_cols = 10\n",
    "plt.figure(figsize=(n_cols * 1.2, n_rows * 1.2))\n",
    "for row in range(n_rows):\n",
    "    for col in range(n_cols):\n",
    "        index = n_cols * row + col\n",
    "        plt.subplot(n_rows, n_cols, index + 1)\n",
    "        plt.imshow(X_train[index], cmap=\"binary\", interpolation=\"nearest\")\n",
    "        plt.axis('off')\n",
    "        plt.title(y_train[index], fontsize=12)\n",
    "plt.subplots_adjust(wspace=0.2, hspace=0.5)\n",
    "plt.show()"
   ]
  },
  {
   "cell_type": "markdown",
   "metadata": {},
   "source": [
    "Now, let's build our neural network"
   ]
  },
  {
   "cell_type": "code",
   "execution_count": 8,
   "metadata": {},
   "outputs": [],
   "source": [
    "keras.backend.clear_session()\n",
    "np.random.seed(42)\n",
    "tf.random.set_seed(42)"
   ]
  },
  {
   "cell_type": "code",
   "execution_count": 9,
   "metadata": {},
   "outputs": [],
   "source": [
    "model = keras.models.Sequential([\n",
    "    keras.layers.Flatten(input_shape=[28, 28]),\n",
    "    keras.layers.Dense(300, activation=\"relu\"),\n",
    "    keras.layers.Dense(100, activation=\"relu\"),\n",
    "    keras.layers.Dense(10, activation=\"softmax\")\n",
    "])"
   ]
  },
  {
   "cell_type": "code",
   "execution_count": 10,
   "metadata": {},
   "outputs": [
    {
     "data": {
      "text/plain": [
       "[<tensorflow.python.keras.layers.core.Flatten at 0x206950d3d88>,\n",
       " <tensorflow.python.keras.layers.core.Dense at 0x206950e56c8>,\n",
       " <tensorflow.python.keras.layers.core.Dense at 0x206ecbe7288>,\n",
       " <tensorflow.python.keras.layers.core.Dense at 0x206950e5188>]"
      ]
     },
     "execution_count": 10,
     "metadata": {},
     "output_type": "execute_result"
    }
   ],
   "source": [
    "model.layers"
   ]
  },
  {
   "cell_type": "code",
   "execution_count": 11,
   "metadata": {},
   "outputs": [
    {
     "name": "stdout",
     "output_type": "stream",
     "text": [
      "Model: \"sequential\"\n",
      "_________________________________________________________________\n",
      "Layer (type)                 Output Shape              Param #   \n",
      "=================================================================\n",
      "flatten (Flatten)            (None, 784)               0         \n",
      "_________________________________________________________________\n",
      "dense (Dense)                (None, 300)               235500    \n",
      "_________________________________________________________________\n",
      "dense_1 (Dense)              (None, 100)               30100     \n",
      "_________________________________________________________________\n",
      "dense_2 (Dense)              (None, 10)                1010      \n",
      "=================================================================\n",
      "Total params: 266,610\n",
      "Trainable params: 266,610\n",
      "Non-trainable params: 0\n",
      "_________________________________________________________________\n"
     ]
    }
   ],
   "source": [
    "model.summary()"
   ]
  },
  {
   "cell_type": "code",
   "execution_count": 12,
   "metadata": {},
   "outputs": [],
   "source": [
    "model.compile(loss=\"sparse_categorical_crossentropy\",\n",
    "              optimizer=keras.optimizers.SGD(lr=1e-3),\n",
    "              metrics=[\"accuracy\"])"
   ]
  },
  {
   "cell_type": "code",
   "execution_count": null,
   "metadata": {},
   "outputs": [
    {
     "name": "stdout",
     "output_type": "stream",
     "text": [
      "Train on 42000 samples, validate on 18000 samples\n",
      "Epoch 1/30\n",
      "42000/42000 [==============================] - 4s 89us/sample - loss: 1.5488 - accuracy: 0.7633 - val_loss: 0.5884 - val_accuracy: 0.8318\n",
      "Epoch 2/30\n",
      "42000/42000 [==============================] - 3s 79us/sample - loss: 0.4174 - accuracy: 0.8844 - val_loss: 0.4130 - val_accuracy: 0.8933\n",
      "Epoch 3/30\n",
      "42000/42000 [==============================] - 3s 79us/sample - loss: 0.3062 - accuracy: 0.9140 - val_loss: 0.3546 - val_accuracy: 0.9061\n",
      "Epoch 4/30\n",
      "42000/42000 [==============================] - 4s 85us/sample - loss: 0.2441 - accuracy: 0.9294 - val_loss: 0.3307 - val_accuracy: 0.9178\n",
      "Epoch 5/30\n",
      "42000/42000 [==============================] - 3s 83us/sample - loss: 0.2066 - accuracy: 0.9396 - val_loss: 0.2897 - val_accuracy: 0.9263\n",
      "Epoch 6/30\n",
      "42000/42000 [==============================] - 3s 80us/sample - loss: 0.1808 - accuracy: 0.9458 - val_loss: 0.2849 - val_accuracy: 0.9323\n",
      "Epoch 7/30\n",
      "42000/42000 [==============================] - 3s 78us/sample - loss: 0.1588 - accuracy: 0.9518 - val_loss: 0.2902 - val_accuracy: 0.9299\n",
      "Epoch 8/30\n",
      "42000/42000 [==============================] - 3s 78us/sample - loss: 0.1420 - accuracy: 0.9574 - val_loss: 0.2681 - val_accuracy: 0.9351\n",
      "Epoch 9/30\n",
      "42000/42000 [==============================] - 3s 78us/sample - loss: 0.1269 - accuracy: 0.9616 - val_loss: 0.2680 - val_accuracy: 0.9384\n",
      "Epoch 10/30\n",
      "42000/42000 [==============================] - 3s 77us/sample - loss: 0.1155 - accuracy: 0.9648 - val_loss: 0.2464 - val_accuracy: 0.9421\n",
      "Epoch 11/30\n",
      "42000/42000 [==============================] - 3s 77us/sample - loss: 0.1065 - accuracy: 0.9676 - val_loss: 0.2465 - val_accuracy: 0.9425\n",
      "Epoch 12/30\n",
      "42000/42000 [==============================] - 3s 78us/sample - loss: 0.0969 - accuracy: 0.9703 - val_loss: 0.2536 - val_accuracy: 0.9446\n",
      "Epoch 13/30\n",
      "42000/42000 [==============================] - 3s 78us/sample - loss: 0.0875 - accuracy: 0.9730 - val_loss: 0.2397 - val_accuracy: 0.9472\n",
      "Epoch 14/30\n",
      "42000/42000 [==============================] - 3s 76us/sample - loss: 0.0796 - accuracy: 0.9762 - val_loss: 0.2435 - val_accuracy: 0.9469\n",
      "Epoch 15/30\n",
      "42000/42000 [==============================] - 3s 77us/sample - loss: 0.0734 - accuracy: 0.9768 - val_loss: 0.2547 - val_accuracy: 0.9451\n",
      "Epoch 16/30\n",
      "42000/42000 [==============================] - 3s 77us/sample - loss: 0.0674 - accuracy: 0.9794 - val_loss: 0.2436 - val_accuracy: 0.9479\n",
      "Epoch 17/30\n",
      "42000/42000 [==============================] - 3s 77us/sample - loss: 0.0618 - accuracy: 0.9813 - val_loss: 0.2482 - val_accuracy: 0.9489\n",
      "Epoch 18/30\n",
      "42000/42000 [==============================] - 3s 80us/sample - loss: 0.0557 - accuracy: 0.9830 - val_loss: 0.2499 - val_accuracy: 0.9484\n",
      "Epoch 19/30\n",
      "42000/42000 [==============================] - 3s 79us/sample - loss: 0.0527 - accuracy: 0.9844 - val_loss: 0.2498 - val_accuracy: 0.9476\n",
      "Epoch 20/30\n",
      "42000/42000 [==============================] - 3s 79us/sample - loss: 0.0482 - accuracy: 0.9858 - val_loss: 0.2578 - val_accuracy: 0.9508\n",
      "Epoch 21/30\n",
      "42000/42000 [==============================] - 3s 79us/sample - loss: 0.0441 - accuracy: 0.9871 - val_loss: 0.2549 - val_accuracy: 0.9502\n",
      "Epoch 22/30\n",
      " 8192/42000 [====>.........................] - ETA: 2s - loss: 0.0350 - accuracy: 0.9896"
     ]
    }
   ],
   "source": [
    "history = model.fit(X_train, y_train, epochs=30,\n",
    "                    validation_data=(X_val, y_val))"
   ]
  },
  {
   "cell_type": "code",
   "execution_count": null,
   "metadata": {},
   "outputs": [],
   "source": [
    "model.evaluate(X_test, y_test)"
   ]
  },
  {
   "cell_type": "code",
   "execution_count": null,
   "metadata": {},
   "outputs": [],
   "source": [
    "model.summary()"
   ]
  },
  {
   "cell_type": "code",
   "execution_count": null,
   "metadata": {},
   "outputs": [],
   "source": []
  },
  {
   "cell_type": "code",
   "execution_count": null,
   "metadata": {},
   "outputs": [],
   "source": []
  },
  {
   "cell_type": "code",
   "execution_count": null,
   "metadata": {},
   "outputs": [],
   "source": []
  },
  {
   "cell_type": "code",
   "execution_count": null,
   "metadata": {},
   "outputs": [],
   "source": []
  },
  {
   "cell_type": "code",
   "execution_count": null,
   "metadata": {},
   "outputs": [],
   "source": []
  },
  {
   "cell_type": "code",
   "execution_count": null,
   "metadata": {},
   "outputs": [],
   "source": []
  },
  {
   "cell_type": "code",
   "execution_count": null,
   "metadata": {},
   "outputs": [],
   "source": []
  },
  {
   "cell_type": "code",
   "execution_count": null,
   "metadata": {},
   "outputs": [],
   "source": []
  },
  {
   "cell_type": "code",
   "execution_count": null,
   "metadata": {},
   "outputs": [],
   "source": []
  },
  {
   "cell_type": "code",
   "execution_count": null,
   "metadata": {},
   "outputs": [],
   "source": []
  },
  {
   "cell_type": "code",
   "execution_count": null,
   "metadata": {},
   "outputs": [],
   "source": []
  },
  {
   "cell_type": "code",
   "execution_count": null,
   "metadata": {},
   "outputs": [],
   "source": []
  },
  {
   "cell_type": "code",
   "execution_count": null,
   "metadata": {},
   "outputs": [],
   "source": []
  },
  {
   "cell_type": "code",
   "execution_count": null,
   "metadata": {},
   "outputs": [],
   "source": [
    "keras.backend.clear_session()\n",
    "np.random.seed(42)\n",
    "# tf.random.seed(42)"
   ]
  },
  {
   "cell_type": "code",
   "execution_count": null,
   "metadata": {},
   "outputs": [],
   "source": [
    "modelsTested = []\n",
    "\n",
    "def testModels(testName, layer1, layer2, layer3, learningRate, epochNumber):\n",
    "    model = keras.models.Sequential([\n",
    "        keras.layers.Flatten(input_shape=[28, 28]),\n",
    "        keras.layers.Dense(layer1, activation=\"relu\"),\n",
    "        keras.layers.Dense(layer2, activation=\"relu\"),\n",
    "        keras.layers.Dense(layer3, activation=\"softmax\")\n",
    "    ])\n",
    "    model.compile(loss=\"sparse_categorical_crossentropy\",\n",
    "              optimizer=keras.optimizers.SGD(lr=learningRate),\n",
    "              metrics=[\"accuracy\"])\n",
    "    history = model.fit(X_train, y_train, epochs=epochNumber,\n",
    "                    validation_data=(X_val, y_val))\n",
    "    print(testName + \": \\nlayer1: \" + str(layer1) + \"\\nlayer2: \" + str(layer2), \"\\nlayer3: \" + str(layer3), \n",
    "         \"\\nlearningRate: \" + str(learningRate), \"\\nepochNumber: \" + str(epochNumber), \n",
    "         \"\\naccuracy: \" + str(model.evaluate(X_test, y_test)) + \"\\n\\n\")"
   ]
  },
  {
   "cell_type": "code",
   "execution_count": null,
   "metadata": {},
   "outputs": [],
   "source": [
    "testName = [\"Test1\", \"Test2\", \"Test3\", \"Test4\"]\n",
    "testLayer1 = [300, 300, 500, 500, 300, 300, 500, 500, 300, 300, 500, 500, 300, 300, 500, 500]\n",
    "testLayer2 = [300, 500, 300, 500, 300, 500, 300, 500, 300, 500, 300, 500, 300, 500, 300, 500]\n",
    "testLayer3 = [10, 10, 10, 10, 20, 20, 20, 20, 10, 10, 10, 10, 20, 20, 20, 20]\n",
    "testLearningRate = [1e-3, 1e-3, 1e-3, 1e-3, 1e-3, 1e-3, 1e-3, 1e-3, 0.03, 0.03, 0.03, 0.03, 0.03, 0.03, 0.03, 0.03]\n",
    "testEpochNumber = [5, 5, 5, 5, 5, 5, 5, 5, 5, 5, 5, 5, 5, 5, 5, 5]\n",
    "\n",
    "for i in range(4):\n",
    "    testModels(testName[i], testLayer1[i], testLayer2[i], testLayer3[i], testLearningRate[i], testEpochNumber[i])"
   ]
  },
  {
   "cell_type": "code",
   "execution_count": null,
   "metadata": {},
   "outputs": [],
   "source": []
  },
  {
   "cell_type": "code",
   "execution_count": null,
   "metadata": {},
   "outputs": [],
   "source": []
  },
  {
   "cell_type": "code",
   "execution_count": null,
   "metadata": {},
   "outputs": [],
   "source": []
  },
  {
   "cell_type": "code",
   "execution_count": null,
   "metadata": {},
   "outputs": [],
   "source": []
  },
  {
   "cell_type": "code",
   "execution_count": null,
   "metadata": {},
   "outputs": [],
   "source": []
  },
  {
   "cell_type": "markdown",
   "metadata": {},
   "source": [
    "## Progress Log\n",
    "\n",
    "The two includes two kinds of entries that we came across whilst working on this assignment, they are problems and investigations. The following is our list of problem-solution pairs."
   ]
  },
  {
   "cell_type": "markdown",
   "metadata": {},
   "source": [
    "1. We realised that in order to use tensorflow (i.e. import the package for furture use), we had to have it installed beforehand. After spending a while to do some google search (i.e. choosing what is the most reliable link to follow), we managed to find a solution which is the following link https://www.tensorflow.org/install"
   ]
  },
  {
   "cell_type": "markdown",
   "metadata": {},
   "source": [
    "2. Both of us had the up-to-date version of the chapter 10 notebook and we knew that there were already a solution for exercise 10, so we were confused about what exactly we had to do for this lab. After reading Prof. Basye's email, we decided that we would try processing the training and test sets in some different ways to see how it would affect the accuracy score in the end. For example, we would use a different ratio to split the full training set into validation and smaller training sets and not scale the sets by dividing by 255 (i.e. just leave them be) to see how our model would react to them. "
   ]
  },
  {
   "cell_type": "markdown",
   "metadata": {},
   "source": [
    "3. changing learning rate"
   ]
  },
  {
   "cell_type": "markdown",
   "metadata": {},
   "source": [
    "4. changing epochs"
   ]
  },
  {
   "cell_type": "markdown",
   "metadata": {},
   "source": [
    "5. changing neural network size"
   ]
  }
 ],
 "metadata": {
  "kernelspec": {
   "display_name": "Python 3",
   "language": "python",
   "name": "python3"
  },
  "language_info": {
   "codemirror_mode": {
    "name": "ipython",
    "version": 3
   },
   "file_extension": ".py",
   "mimetype": "text/x-python",
   "name": "python",
   "nbconvert_exporter": "python",
   "pygments_lexer": "ipython3",
   "version": "3.7.4"
  }
 },
 "nbformat": 4,
 "nbformat_minor": 4
}
