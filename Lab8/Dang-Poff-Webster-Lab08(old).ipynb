{
 "cells": [
  {
   "cell_type": "markdown",
   "metadata": {},
   "source": [
    "Name: Nathan Dang\n",
    "\n",
    "Partner: Charlie Poff-Webster\n",
    "\n",
    "Date: 04/28/2020\n",
    "\n",
    "DSCI225 - Applied Machine Learning\n",
    "\n",
    "Instructor: Prof. Basye"
   ]
  },
  {
   "cell_type": "markdown",
   "metadata": {},
   "source": [
    "# Lab 8 - Transfer Learning with Autoencoders\n",
    "\n",
    "### Prompt:\n",
    "\n",
    "Examine the notebook for Chapter 11, 11_training_deep_neural_networks.ipynb. You also might want to look at the notebook for chapter 10, which you've already used in lab 6.\n",
    "\n",
    "Examine the notebook for Chapter 17, 17_autoencoders_and_gans.ipynb.\n",
    "\n",
    "Build a new notebook for this lab. Much of the contents will probably be cut-and-paste from two chapter notebooks, 11 and 17 - that's OK. If you borrow chunks from anywhere other than the book's notebooks, be sure to document that with a link to where the code came from.\n",
    "\n",
    "Our goal here is to explore the idea of using an autoencoder as a training aid to allow us to use much less labeled training data. To create a benchmark, use the code from chapter 11 that trains a model for MNIST fashion. Find a model and hyperparameters that do a decent job, but you don't have to spend a lot of time here.\n",
    "\n",
    "See what happens as you reduce the amount of training data. From whatever amount you started with, reduce it by half repeatedly until you get below 100 images in your training set. Record the resulting accuracy for each amount. Since the runs on smaller amounts will be faster, you can run them for more epochs if it helps. Or just use an early stopping callback and let it run until it stops.\n",
    "\n",
    "Now train an autoencoder following the notebook for Ch. 17 and then transfer the encoder layers into a new network that does classification. Note that so far, we haven't used any labelled data at all! Now repeatedly train just the upper layer of the classifier on the same amounts of labeled data that you used in the previous step. See section on Using Pretrained Layers in the notebook for Ch. 11 for how to \"freeze\" the lower layers. Optionally try unfreezing some or all of them and see what that does, too.\n",
    "\n",
    "In addition, you should also keep progress notes, which will become part of your submission. At the bottom of your notebook, make a single text cell for these notes. Your notes should include two kinds of entries: problems and investigations. Problem entries should read like this: \"I (or We) had <problem> in the cell that did <something>. I/We fixed this by <remedy>.\" Investigation entries should read like this: \"I/We didn't understand <something>. We found an explanation at <link> (or perhaps, we talked to <person>) and now I/We understand it.\"\n",
    "\n",
    "You may add other kinds of progress entries as you see fit, e.g. \"I figured out a clever way to do <something>.\" But you should have at least 5 problem and 5 investigation entries.\n",
    "    \n",
    "<b>NOTE:</b> we marked checkpoints throughout our process which can be seen by the label of a progress log (i.e. \"Progress Log 1,\" \"Progress Log 2,\" etc) followed by a summary of what was going on on each checkpoint. The full documentation of the log can be found at the end of the notebook. "
   ]
  },
  {
   "cell_type": "markdown",
   "metadata": {},
   "source": [
    "## Setup\n",
    "\n",
    "First, let's import a few common modules, ensure MatplotLib plots figures inline and prepare a function to save the figures. We also check that Python 3.5 or later is installed (although Python 2.x may work, it is deprecated so we strongly recommend you use Python 3 instead), as well as Scikit-Learn ≥0.20 and TensorFlow ≥2.0."
   ]
  },
  {
   "cell_type": "code",
   "execution_count": 1,
   "metadata": {},
   "outputs": [
    {
     "name": "stdout",
     "output_type": "stream",
     "text": [
      "WARNING:tensorflow:From <ipython-input-1-5dfd249a597d>:21: is_gpu_available (from tensorflow.python.framework.test_util) is deprecated and will be removed in a future version.\n",
      "Instructions for updating:\n",
      "Use `tf.config.list_physical_devices('GPU')` instead.\n",
      "No GPU was detected. LSTMs and CNNs can be very slow without a GPU.\n"
     ]
    }
   ],
   "source": [
    "# Python ≥3.5 is required\n",
    "import sys\n",
    "assert sys.version_info >= (3, 5)\n",
    "\n",
    "# Scikit-Learn ≥0.20 is required\n",
    "import sklearn\n",
    "assert sklearn.__version__ >= \"0.20\"\n",
    "\n",
    "try:\n",
    "    # %tensorflow_version only exists in Colab.\n",
    "    %tensorflow_version 2.x\n",
    "    IS_COLAB = True\n",
    "except Exception:\n",
    "    IS_COLAB = False\n",
    "\n",
    "# TensorFlow ≥2.0 is required\n",
    "import tensorflow as tf\n",
    "from tensorflow import keras\n",
    "assert tf.__version__ >= \"2.0\"\n",
    "\n",
    "if not tf.test.is_gpu_available():\n",
    "    print(\"No GPU was detected. LSTMs and CNNs can be very slow without a GPU.\")\n",
    "    if IS_COLAB:\n",
    "        print(\"Go to Runtime > Change runtime and select a GPU hardware accelerator.\")\n",
    "\n",
    "# Common imports\n",
    "import numpy as np\n",
    "import os\n",
    "\n",
    "# to make this notebook's output stable across runs\n",
    "np.random.seed(42)\n",
    "tf.random.set_seed(42)\n",
    "\n",
    "# To plot pretty figures\n",
    "%matplotlib inline\n",
    "import matplotlib as mpl\n",
    "import matplotlib.pyplot as plt\n",
    "mpl.rc('axes', labelsize=14)\n",
    "mpl.rc('xtick', labelsize=12)\n",
    "mpl.rc('ytick', labelsize=12)\n",
    "\n",
    "# Where to save the figures\n",
    "PROJECT_ROOT_DIR = \".\"\n",
    "CHAPTER_ID = \"autoencoders\"\n",
    "IMAGES_PATH = os.path.join(PROJECT_ROOT_DIR, \"images\", CHAPTER_ID)\n",
    "os.makedirs(IMAGES_PATH, exist_ok=True)\n",
    "\n",
    "def save_fig(fig_id, tight_layout=True, fig_extension=\"png\", resolution=300):\n",
    "    path = os.path.join(IMAGES_PATH, fig_id + \".\" + fig_extension)\n",
    "    print(\"Saving figure\", fig_id)\n",
    "    if tight_layout:\n",
    "        plt.tight_layout()\n",
    "    plt.savefig(path, format=fig_extension, dpi=resolution)"
   ]
  },
  {
   "cell_type": "markdown",
   "metadata": {},
   "source": [
    "## Get the data\n",
    "\n",
    "For this lab, we are asked to use the Fashion MNIST dataset from keras."
   ]
  },
  {
   "cell_type": "markdown",
   "metadata": {},
   "source": [
    "Download the dataset."
   ]
  },
  {
   "cell_type": "code",
   "execution_count": 2,
   "metadata": {},
   "outputs": [],
   "source": [
    "fashion_mnist = keras.datasets.fashion_mnist\n",
    "(X_train_full, y_train_full), (X_test, y_test) = fashion_mnist.load_data()"
   ]
  },
  {
   "cell_type": "code",
   "execution_count": 3,
   "metadata": {},
   "outputs": [
    {
     "data": {
      "text/plain": [
       "(60000, 28, 28)"
      ]
     },
     "execution_count": 3,
     "metadata": {},
     "output_type": "execute_result"
    }
   ],
   "source": [
    "X_train_full.shape"
   ]
  },
  {
   "cell_type": "code",
   "execution_count": 4,
   "metadata": {},
   "outputs": [
    {
     "data": {
      "text/plain": [
       "dtype('uint8')"
      ]
     },
     "execution_count": 4,
     "metadata": {},
     "output_type": "execute_result"
    }
   ],
   "source": [
    "X_train_full.dtype"
   ]
  },
  {
   "cell_type": "markdown",
   "metadata": {},
   "source": [
    "Split the full training set to validation and training sets, then scale the data by diving all entries by 255."
   ]
  },
  {
   "cell_type": "code",
   "execution_count": 5,
   "metadata": {},
   "outputs": [],
   "source": [
    "X_train_full = X_train_full / 255.0\n",
    "X_test = X_test / 255.0\n",
    "X_valid, X_train = X_train_full[:5000], X_train_full[5000:]\n",
    "y_valid, y_train = y_train_full[:5000], y_train_full[5000:]"
   ]
  },
  {
   "cell_type": "code",
   "execution_count": 6,
   "metadata": {},
   "outputs": [
    {
     "data": {
      "text/plain": [
       "(5000, 28, 28)"
      ]
     },
     "execution_count": 6,
     "metadata": {},
     "output_type": "execute_result"
    }
   ],
   "source": [
    "X_valid.shape"
   ]
  },
  {
   "cell_type": "code",
   "execution_count": 7,
   "metadata": {},
   "outputs": [
    {
     "data": {
      "text/plain": [
       "(10000, 28, 28)"
      ]
     },
     "execution_count": 7,
     "metadata": {},
     "output_type": "execute_result"
    }
   ],
   "source": [
    "X_test.shape"
   ]
  },
  {
   "cell_type": "markdown",
   "metadata": {},
   "source": [
    "Some visualisation of a sample of the images in the dataset."
   ]
  },
  {
   "cell_type": "code",
   "execution_count": 8,
   "metadata": {},
   "outputs": [],
   "source": [
    "class_names = [\"T-shirt/top\", \"Trouser\", \"Pullover\", \"Dress\", \"Coat\",\n",
    "               \"Sandal\", \"Shirt\", \"Sneaker\", \"Bag\", \"Ankle boot\"]"
   ]
  },
  {
   "cell_type": "code",
   "execution_count": 9,
   "metadata": {},
   "outputs": [
    {
     "data": {
      "image/png": "[encoded data removed]",
      "text/plain": [
       "<Figure size 864x345.6 with 40 Axes>"
      ]
     },
     "metadata": {
      "needs_background": "light"
     },
     "output_type": "display_data"
    }
   ],
   "source": [
    "n_rows = 4\n",
    "n_cols = 10\n",
    "plt.figure(figsize=(n_cols * 1.2, n_rows * 1.2))\n",
    "for row in range(n_rows):\n",
    "    for col in range(n_cols):\n",
    "        index = n_cols * row + col\n",
    "        plt.subplot(n_rows, n_cols, index + 1)\n",
    "        plt.imshow(X_train[index], cmap=\"binary\", interpolation=\"nearest\")\n",
    "        plt.axis('off')\n",
    "        plt.title(class_names[y_train[index]], fontsize=12)\n",
    "plt.subplots_adjust(wspace=0.2, hspace=0.5)\n",
    "plt.show()"
   ]
  },
  {
   "cell_type": "markdown",
   "metadata": {},
   "source": [
    "## Train a model"
   ]
  },
  {
   "cell_type": "markdown",
   "metadata": {},
   "source": [
    "Train a neural network on Fashion MNIST using the ReLU activation function and Batch Normalisation:"
   ]
  },
  {
   "cell_type": "code",
   "execution_count": 10,
   "metadata": {},
   "outputs": [],
   "source": [
    "keras.backend.clear_session()\n",
    "np.random.seed(42)\n",
    "tf.random.set_seed(42)"
   ]
  },
  {
   "cell_type": "markdown",
   "metadata": {},
   "source": [
    "### Progress Log 1\n",
    "\n",
    "We defined a method that would build a model with 2 hidden 300-neuron layers, with a fixed learning rate of 2e-3. The model used Batch Normalisation and ReLU activation function."
   ]
  },
  {
   "cell_type": "code",
   "execution_count": 11,
   "metadata": {},
   "outputs": [],
   "source": [
    "def build_model(n_hidden=2, n_neurons=300, learning_rate=2e-3, input_shape=[28,28]):\n",
    "    model = keras.models.Sequential()\n",
    "    model.add(keras.layers.Flatten(input_shape=input_shape))\n",
    "    model.add(keras.layers.BatchNormalization())\n",
    "    for layer in range(n_hidden):\n",
    "        model.add(keras.layers.Dense(n_neurons, activation=\"relu\", use_bias=False))\n",
    "        model.add(keras.layers.BatchNormalization())\n",
    "    model.add(keras.layers.Dense(10, activation=\"softmax\"))\n",
    "    model.compile(loss=\"sparse_categorical_crossentropy\",\n",
    "              optimizer=keras.optimizers.SGD(lr=learning_rate),\n",
    "              metrics=[\"accuracy\"])\n",
    "    return model"
   ]
  },
  {
   "cell_type": "code",
   "execution_count": 12,
   "metadata": {},
   "outputs": [],
   "source": [
    "model = build_model()"
   ]
  },
  {
   "cell_type": "code",
   "execution_count": 13,
   "metadata": {},
   "outputs": [
    {
     "name": "stdout",
     "output_type": "stream",
     "text": [
      "Train on 55000 samples, validate on 5000 samples\n",
      "Epoch 1/30\n",
      "55000/55000 [==============================] - 24s 445us/sample - loss: 0.6733 - accuracy: 0.7674 - val_loss: 0.4688 - val_accuracy: 0.8400\n",
      "Epoch 2/30\n",
      "55000/55000 [==============================] - 21s 381us/sample - loss: 0.4723 - accuracy: 0.8330 - val_loss: 0.4133 - val_accuracy: 0.8612\n",
      "Epoch 3/30\n",
      "55000/55000 [==============================] - 22s 403us/sample - loss: 0.4308 - accuracy: 0.8474 - val_loss: 0.3897 - val_accuracy: 0.8678\n",
      "Epoch 4/30\n",
      "55000/55000 [==============================] - 22s 399us/sample - loss: 0.4045 - accuracy: 0.8572 - val_loss: 0.3740 - val_accuracy: 0.8688\n",
      "Epoch 5/30\n",
      "55000/55000 [==============================] - 22s 404us/sample - loss: 0.3813 - accuracy: 0.8654 - val_loss: 0.3656 - val_accuracy: 0.8692\n",
      "Epoch 6/30\n",
      "55000/55000 [==============================] - 22s 400us/sample - loss: 0.3651 - accuracy: 0.8687 - val_loss: 0.3562 - val_accuracy: 0.8756\n",
      "Epoch 7/30\n",
      "55000/55000 [==============================] - 22s 396us/sample - loss: 0.3540 - accuracy: 0.8747 - val_loss: 0.3484 - val_accuracy: 0.8784\n",
      "Epoch 8/30\n",
      "55000/55000 [==============================] - 22s 397us/sample - loss: 0.3401 - accuracy: 0.8779 - val_loss: 0.3446 - val_accuracy: 0.8770\n",
      "Epoch 9/30\n",
      "55000/55000 [==============================] - 22s 394us/sample - loss: 0.3299 - accuracy: 0.8817 - val_loss: 0.3402 - val_accuracy: 0.8776\n",
      "Epoch 10/30\n",
      "55000/55000 [==============================] - 22s 398us/sample - loss: 0.3197 - accuracy: 0.8871 - val_loss: 0.3396 - val_accuracy: 0.8790\n",
      "Epoch 11/30\n",
      "55000/55000 [==============================] - 21s 388us/sample - loss: 0.3093 - accuracy: 0.8892 - val_loss: 0.3337 - val_accuracy: 0.8814\n",
      "Epoch 12/30\n",
      "55000/55000 [==============================] - 21s 385us/sample - loss: 0.3055 - accuracy: 0.8910 - val_loss: 0.3337 - val_accuracy: 0.8836\n",
      "Epoch 13/30\n",
      "55000/55000 [==============================] - 22s 398us/sample - loss: 0.2952 - accuracy: 0.8939 - val_loss: 0.3305 - val_accuracy: 0.8828\n",
      "Epoch 14/30\n",
      "55000/55000 [==============================] - 22s 397us/sample - loss: 0.2895 - accuracy: 0.8961 - val_loss: 0.3265 - val_accuracy: 0.8840\n",
      "Epoch 15/30\n",
      "55000/55000 [==============================] - 22s 395us/sample - loss: 0.2835 - accuracy: 0.8985 - val_loss: 0.3236 - val_accuracy: 0.8830\n",
      "Epoch 16/30\n",
      "55000/55000 [==============================] - 22s 394us/sample - loss: 0.2763 - accuracy: 0.9015 - val_loss: 0.3212 - val_accuracy: 0.8886\n",
      "Epoch 17/30\n",
      "55000/55000 [==============================] - 22s 394us/sample - loss: 0.2704 - accuracy: 0.9028 - val_loss: 0.3209 - val_accuracy: 0.8846\n",
      "Epoch 18/30\n",
      "55000/55000 [==============================] - 21s 389us/sample - loss: 0.2664 - accuracy: 0.9042 - val_loss: 0.3202 - val_accuracy: 0.8876\n",
      "Epoch 19/30\n",
      "55000/55000 [==============================] - 22s 395us/sample - loss: 0.2598 - accuracy: 0.9068 - val_loss: 0.3220 - val_accuracy: 0.8858: 0.2598 - accu\n",
      "Epoch 20/30\n",
      "55000/55000 [==============================] - 22s 393us/sample - loss: 0.2562 - accuracy: 0.9078 - val_loss: 0.3161 - val_accuracy: 0.8866\n",
      "Epoch 21/30\n",
      "55000/55000 [==============================] - 22s 394us/sample - loss: 0.2517 - accuracy: 0.9096 - val_loss: 0.3173 - val_accuracy: 0.8868\n",
      "Epoch 22/30\n",
      "55000/55000 [==============================] - 22s 395us/sample - loss: 0.2453 - accuracy: 0.9123 - val_loss: 0.3173 - val_accuracy: 0.8878\n",
      "Epoch 23/30\n",
      "55000/55000 [==============================] - 22s 393us/sample - loss: 0.2414 - accuracy: 0.9130 - val_loss: 0.3155 - val_accuracy: 0.8870\n",
      "Epoch 24/30\n",
      "55000/55000 [==============================] - 22s 394us/sample - loss: 0.2348 - accuracy: 0.9162 - val_loss: 0.3151 - val_accuracy: 0.8880\n",
      "Epoch 25/30\n",
      "55000/55000 [==============================] - 24s 441us/sample - loss: 0.2317 - accuracy: 0.9165 - val_loss: 0.3159 - val_accuracy: 0.8892\n",
      "Epoch 26/30\n",
      "55000/55000 [==============================] - 21s 390us/sample - loss: 0.2278 - accuracy: 0.9177 - val_loss: 0.3153 - val_accuracy: 0.8894\n",
      "Epoch 27/30\n",
      "55000/55000 [==============================] - 22s 393us/sample - loss: 0.2237 - accuracy: 0.9203 - val_loss: 0.3145 - val_accuracy: 0.8890\n",
      "Epoch 28/30\n",
      "55000/55000 [==============================] - 21s 390us/sample - loss: 0.2192 - accuracy: 0.9215 - val_loss: 0.3119 - val_accuracy: 0.8904\n",
      "Epoch 29/30\n",
      "55000/55000 [==============================] - 22s 391us/sample - loss: 0.2149 - accuracy: 0.9238 - val_loss: 0.3130 - val_accuracy: 0.8922\n",
      "Epoch 30/30\n",
      "55000/55000 [==============================] - 22s 393us/sample - loss: 0.2118 - accuracy: 0.9240 - val_loss: 0.3141 - val_accuracy: 0.8892\n"
     ]
    }
   ],
   "source": [
    "history = model.fit(X_train, y_train, epochs=30,\n",
    "                    validation_data=(X_valid, y_valid),\n",
    "                    callbacks=[keras.callbacks.EarlyStopping(monitor='accuracy', patience=5)])"
   ]
  },
  {
   "cell_type": "code",
   "execution_count": 14,
   "metadata": {},
   "outputs": [
    {
     "name": "stdout",
     "output_type": "stream",
     "text": [
      "10000/10000 [==============================] - 2s 155us/sample - loss: 0.3415 - accuracy: 0.8814\n"
     ]
    }
   ],
   "source": [
    "result = model.evaluate(X_test, y_test)"
   ]
  },
  {
   "cell_type": "markdown",
   "metadata": {},
   "source": [
    "### Progress Log 2\n",
    "\n",
    "At this point, we were asked to reduce the amount of training data by half repeatedly until the size of the set got below 100 images. The resulting accuracy for each training amount was also recorded. "
   ]
  },
  {
   "cell_type": "code",
   "execution_count": 34,
   "metadata": {},
   "outputs": [
    {
     "data": {
      "text/plain": [
       "(55000, 28, 28)"
      ]
     },
     "execution_count": 34,
     "metadata": {},
     "output_type": "execute_result"
    }
   ],
   "source": [
    "X_train.shape"
   ]
  },
  {
   "cell_type": "code",
   "execution_count": 35,
   "metadata": {},
   "outputs": [],
   "source": [
    "accuracy_record = [] # initialise the array\n",
    "accuracy_record.append(result[1]) # add the accuracy score above to the array"
   ]
  },
  {
   "cell_type": "code",
   "execution_count": 37,
   "metadata": {},
   "outputs": [],
   "source": [
    "# initialise the halved training set\n",
    "X_train_halved = X_train[:round(len(X_train)/2)]\n",
    "y_train_halved = y_train[:round(len(y_train)/2)]"
   ]
  },
  {
   "cell_type": "code",
   "execution_count": 38,
   "metadata": {},
   "outputs": [
    {
     "data": {
      "text/plain": [
       "(27500, 28, 28)"
      ]
     },
     "execution_count": 38,
     "metadata": {},
     "output_type": "execute_result"
    }
   ],
   "source": [
    "X_train_halved.shape"
   ]
  },
  {
   "cell_type": "markdown",
   "metadata": {},
   "source": [
    "The following method will train and evaluate the model on each halved training set until the length of the set gets bellow 100 images. The method returns the size of the final halved traning set as it will be needed for the next steps."
   ]
  },
  {
   "cell_type": "code",
   "execution_count": 39,
   "metadata": {},
   "outputs": [],
   "source": [
    "def testModels(X_train_halved, y_train_halved, epochNumber, i=1):\n",
    "    while len(X_train_halved) > 100:\n",
    "        model = build_model()\n",
    "        # train and evaluate the current model\n",
    "        print(\"\\nTest #\" + str(i) + \"\\nTraning set size = \" + str(len(X_train_halved)) +  \"\\n\")\n",
    "        history = model.fit(X_train_halved, y_train_halved, epochs=epochNumber,\n",
    "                        validation_data=(X_valid, y_valid),\n",
    "                        callbacks=[keras.callbacks.EarlyStopping(monitor='accuracy', patience=5)])\n",
    "        result = model.evaluate(X_test, y_test)\n",
    "        print(\"\\n-----------------------------------------------------------------------------------------------------\")\n",
    "        # update the training set\n",
    "        X_train_halved = X_train_halved[:round(len(X_train_halved)/2)]\n",
    "        y_train_halved = y_train_halved[:round(len(y_train_halved)/2)]\n",
    "        # attached the accuracy score to the array\n",
    "        accuracy_record.append(result[1])\n",
    "        i += 1\n",
    "    return len(X_train_halved)"
   ]
  },
  {
   "cell_type": "code",
   "execution_count": 40,
   "metadata": {},
   "outputs": [],
   "source": [
    "# reset the model\n",
    "keras.backend.clear_session()\n",
    "np.random.seed(42)\n",
    "tf.random.set_seed(42)"
   ]
  },
  {
   "cell_type": "code",
   "execution_count": 41,
   "metadata": {},
   "outputs": [
    {
     "name": "stdout",
     "output_type": "stream",
     "text": [
      "\n",
      "Test #1\n",
      "Traning set size = 27500\n",
      "\n",
      "Train on 27500 samples, validate on 5000 samples\n",
      "Epoch 1/30\n",
      "27500/27500 [==============================] - 5s 190us/sample - loss: 0.7985 - accuracy: 0.7287 - val_loss: 0.5373 - val_accuracy: 0.8198\n",
      "Epoch 2/30\n",
      "27500/27500 [==============================] - 4s 153us/sample - loss: 0.5379 - accuracy: 0.8092 - val_loss: 0.4703 - val_accuracy: 0.8388\n",
      "Epoch 3/30\n",
      "27500/27500 [==============================] - 4s 153us/sample - loss: 0.4747 - accuracy: 0.8321 - val_loss: 0.4355 - val_accuracy: 0.8502\n",
      "Epoch 4/30\n",
      "27500/27500 [==============================] - 4s 153us/sample - loss: 0.4404 - accuracy: 0.8438 - val_loss: 0.4195 - val_accuracy: 0.8560\n",
      "Epoch 5/30\n",
      "27500/27500 [==============================] - 4s 153us/sample - loss: 0.4212 - accuracy: 0.8526 - val_loss: 0.4074 - val_accuracy: 0.8576\n",
      "Epoch 6/30\n",
      "27500/27500 [==============================] - 4s 148us/sample - loss: 0.3996 - accuracy: 0.8560 - val_loss: 0.3980 - val_accuracy: 0.8590\n",
      "Epoch 7/30\n",
      "27500/27500 [==============================] - 4s 148us/sample - loss: 0.3866 - accuracy: 0.8604 - val_loss: 0.3881 - val_accuracy: 0.8628\n",
      "Epoch 8/30\n",
      "27500/27500 [==============================] - 4s 147us/sample - loss: 0.3732 - accuracy: 0.8677 - val_loss: 0.3846 - val_accuracy: 0.8662\n",
      "Epoch 9/30\n",
      "27500/27500 [==============================] - 4s 149us/sample - loss: 0.3554 - accuracy: 0.8736 - val_loss: 0.3784 - val_accuracy: 0.8674\n",
      "Epoch 10/30\n",
      "27500/27500 [==============================] - 4s 143us/sample - loss: 0.3431 - accuracy: 0.8765 - val_loss: 0.3743 - val_accuracy: 0.8682\n",
      "Epoch 11/30\n",
      "27500/27500 [==============================] - 4s 145us/sample - loss: 0.3356 - accuracy: 0.8805 - val_loss: 0.3716 - val_accuracy: 0.8684\n",
      "Epoch 12/30\n",
      "27500/27500 [==============================] - 4s 143us/sample - loss: 0.3280 - accuracy: 0.8812 - val_loss: 0.3668 - val_accuracy: 0.8724\n",
      "Epoch 13/30\n",
      "27500/27500 [==============================] - 4s 143us/sample - loss: 0.3236 - accuracy: 0.8842 - val_loss: 0.3614 - val_accuracy: 0.8742\n",
      "Epoch 14/30\n",
      "27500/27500 [==============================] - 4s 142us/sample - loss: 0.3095 - accuracy: 0.8900 - val_loss: 0.3621 - val_accuracy: 0.8774\n",
      "Epoch 15/30\n",
      "27500/27500 [==============================] - 4s 145us/sample - loss: 0.3044 - accuracy: 0.8912 - val_loss: 0.3565 - val_accuracy: 0.8766\n",
      "Epoch 16/30\n",
      "27500/27500 [==============================] - 4s 145us/sample - loss: 0.2989 - accuracy: 0.8915 - val_loss: 0.3567 - val_accuracy: 0.8770\n",
      "Epoch 17/30\n",
      "27500/27500 [==============================] - 4s 143us/sample - loss: 0.2902 - accuracy: 0.8965 - val_loss: 0.3535 - val_accuracy: 0.8772\n",
      "Epoch 18/30\n",
      "27500/27500 [==============================] - 4s 145us/sample - loss: 0.2817 - accuracy: 0.8998 - val_loss: 0.3570 - val_accuracy: 0.8774\n",
      "Epoch 19/30\n",
      "27500/27500 [==============================] - 4s 145us/sample - loss: 0.2767 - accuracy: 0.9013 - val_loss: 0.3522 - val_accuracy: 0.8786\n",
      "Epoch 20/30\n",
      "27500/27500 [==============================] - 4s 144us/sample - loss: 0.2725 - accuracy: 0.9026 - val_loss: 0.3498 - val_accuracy: 0.8770\n",
      "Epoch 21/30\n",
      "27500/27500 [==============================] - 4s 143us/sample - loss: 0.2638 - accuracy: 0.9049 - val_loss: 0.3504 - val_accuracy: 0.8768\n",
      "Epoch 22/30\n",
      "27500/27500 [==============================] - 4s 143us/sample - loss: 0.2577 - accuracy: 0.9069 - val_loss: 0.3506 - val_accuracy: 0.8792\n",
      "Epoch 23/30\n",
      "27500/27500 [==============================] - 4s 144us/sample - loss: 0.2517 - accuracy: 0.9102 - val_loss: 0.3503 - val_accuracy: 0.8810\n",
      "Epoch 24/30\n",
      "27500/27500 [==============================] - 4s 143us/sample - loss: 0.2493 - accuracy: 0.9112 - val_loss: 0.3485 - val_accuracy: 0.8802\n",
      "Epoch 25/30\n",
      "27500/27500 [==============================] - 4s 143us/sample - loss: 0.2449 - accuracy: 0.9136 - val_loss: 0.3522 - val_accuracy: 0.8810\n",
      "Epoch 26/30\n",
      "27500/27500 [==============================] - 4s 143us/sample - loss: 0.2358 - accuracy: 0.9164 - val_loss: 0.3507 - val_accuracy: 0.8810\n",
      "Epoch 27/30\n",
      "27500/27500 [==============================] - 4s 145us/sample - loss: 0.2313 - accuracy: 0.9171 - val_loss: 0.3520 - val_accuracy: 0.8806\n",
      "Epoch 28/30\n",
      "27500/27500 [==============================] - 4s 145us/sample - loss: 0.2319 - accuracy: 0.9173 - val_loss: 0.3485 - val_accuracy: 0.8802\n",
      "Epoch 29/30\n",
      "27500/27500 [==============================] - 4s 143us/sample - loss: 0.2242 - accuracy: 0.9194 - val_loss: 0.3519 - val_accuracy: 0.8806\n",
      "Epoch 30/30\n",
      "27500/27500 [==============================] - 4s 144us/sample - loss: 0.2187 - accuracy: 0.9222 - val_loss: 0.3500 - val_accuracy: 0.8800\n",
      "10000/10000 [==============================] - 1s 52us/sample - loss: 0.3871 - accuracy: 0.8686\n",
      "\n",
      "-----------------------------------------------------------------------------------------------------\n",
      "\n",
      "Test #2\n",
      "Traning set size = 13750\n",
      "\n",
      "Train on 13750 samples, validate on 5000 samples\n",
      "Epoch 1/30\n",
      "13750/13750 [==============================] - 3s 236us/sample - loss: 0.9459 - accuracy: 0.6799 - val_loss: 0.5936 - val_accuracy: 0.8026\n",
      "Epoch 2/30\n",
      "13750/13750 [==============================] - 2s 153us/sample - loss: 0.6032 - accuracy: 0.7878 - val_loss: 0.5145 - val_accuracy: 0.8260\n",
      "Epoch 3/30\n",
      "13750/13750 [==============================] - 2s 152us/sample - loss: 0.5319 - accuracy: 0.8149 - val_loss: 0.4789 - val_accuracy: 0.8326\n",
      "Epoch 4/30\n",
      "13750/13750 [==============================] - 2s 150us/sample - loss: 0.4923 - accuracy: 0.8241 - val_loss: 0.4588 - val_accuracy: 0.8416\n",
      "Epoch 5/30\n",
      "13750/13750 [==============================] - 2s 153us/sample - loss: 0.4685 - accuracy: 0.8349 - val_loss: 0.4434 - val_accuracy: 0.8480\n",
      "Epoch 6/30\n",
      "13750/13750 [==============================] - 2s 153us/sample - loss: 0.4467 - accuracy: 0.8404 - val_loss: 0.4323 - val_accuracy: 0.8510\n",
      "Epoch 7/30\n",
      "13750/13750 [==============================] - 2s 149us/sample - loss: 0.4181 - accuracy: 0.8526 - val_loss: 0.4234 - val_accuracy: 0.8550\n",
      "Epoch 8/30\n",
      "13750/13750 [==============================] - 2s 151us/sample - loss: 0.4071 - accuracy: 0.8567 - val_loss: 0.4162 - val_accuracy: 0.8574\n",
      "Epoch 9/30\n",
      "13750/13750 [==============================] - 2s 152us/sample - loss: 0.3924 - accuracy: 0.8612 - val_loss: 0.4107 - val_accuracy: 0.8582\n",
      "Epoch 10/30\n",
      "13750/13750 [==============================] - 2s 150us/sample - loss: 0.3817 - accuracy: 0.8655 - val_loss: 0.4063 - val_accuracy: 0.8592\n",
      "Epoch 11/30\n",
      "13750/13750 [==============================] - 2s 151us/sample - loss: 0.3686 - accuracy: 0.8701 - val_loss: 0.4037 - val_accuracy: 0.8610\n",
      "Epoch 12/30\n",
      "13750/13750 [==============================] - 2s 150us/sample - loss: 0.3588 - accuracy: 0.8723 - val_loss: 0.4023 - val_accuracy: 0.8628\n",
      "Epoch 13/30\n",
      "13750/13750 [==============================] - 2s 152us/sample - loss: 0.3466 - accuracy: 0.8797 - val_loss: 0.3975 - val_accuracy: 0.8674\n",
      "Epoch 14/30\n",
      "13750/13750 [==============================] - 2s 152us/sample - loss: 0.3344 - accuracy: 0.8790 - val_loss: 0.3955 - val_accuracy: 0.8670\n",
      "Epoch 15/30\n",
      "13750/13750 [==============================] - 2s 150us/sample - loss: 0.3278 - accuracy: 0.8856 - val_loss: 0.3941 - val_accuracy: 0.8654\n",
      "Epoch 16/30\n",
      "13750/13750 [==============================] - 2s 151us/sample - loss: 0.3209 - accuracy: 0.8863 - val_loss: 0.3933 - val_accuracy: 0.8662\n",
      "Epoch 17/30\n",
      "13750/13750 [==============================] - 2s 152us/sample - loss: 0.3092 - accuracy: 0.8915 - val_loss: 0.3874 - val_accuracy: 0.8678\n",
      "Epoch 18/30\n",
      "13750/13750 [==============================] - 2s 151us/sample - loss: 0.3071 - accuracy: 0.8897 - val_loss: 0.3878 - val_accuracy: 0.8652\n",
      "Epoch 19/30\n",
      "13750/13750 [==============================] - 2s 154us/sample - loss: 0.2960 - accuracy: 0.8929 - val_loss: 0.3862 - val_accuracy: 0.8694\n",
      "Epoch 20/30\n",
      "13750/13750 [==============================] - 2s 151us/sample - loss: 0.2902 - accuracy: 0.8996 - val_loss: 0.3846 - val_accuracy: 0.8678\n",
      "Epoch 21/30\n",
      "13750/13750 [==============================] - 2s 152us/sample - loss: 0.2844 - accuracy: 0.9000 - val_loss: 0.3849 - val_accuracy: 0.8680\n",
      "Epoch 22/30\n",
      "13750/13750 [==============================] - 2s 153us/sample - loss: 0.2783 - accuracy: 0.9032 - val_loss: 0.3837 - val_accuracy: 0.8698\n"
     ]
    },
    {
     "name": "stdout",
     "output_type": "stream",
     "text": [
      "Epoch 23/30\n",
      "13750/13750 [==============================] - 2s 152us/sample - loss: 0.2674 - accuracy: 0.9077 - val_loss: 0.3854 - val_accuracy: 0.8674\n",
      "Epoch 24/30\n",
      "13750/13750 [==============================] - 2s 151us/sample - loss: 0.2644 - accuracy: 0.9094 - val_loss: 0.3854 - val_accuracy: 0.8682\n",
      "Epoch 25/30\n",
      "13750/13750 [==============================] - 2s 151us/sample - loss: 0.2584 - accuracy: 0.9115 - val_loss: 0.3858 - val_accuracy: 0.8688\n",
      "Epoch 26/30\n",
      "13750/13750 [==============================] - 2s 156us/sample - loss: 0.2594 - accuracy: 0.9087 - val_loss: 0.3831 - val_accuracy: 0.8684\n",
      "Epoch 27/30\n",
      "13750/13750 [==============================] - 2s 154us/sample - loss: 0.2462 - accuracy: 0.9136 - val_loss: 0.3832 - val_accuracy: 0.8710\n",
      "Epoch 28/30\n",
      "13750/13750 [==============================] - 2s 153us/sample - loss: 0.2433 - accuracy: 0.9156 - val_loss: 0.3848 - val_accuracy: 0.8700\n",
      "Epoch 29/30\n",
      "13750/13750 [==============================] - 2s 152us/sample - loss: 0.2405 - accuracy: 0.9190 - val_loss: 0.3851 - val_accuracy: 0.8696\n",
      "Epoch 30/30\n",
      "13750/13750 [==============================] - 2s 149us/sample - loss: 0.2343 - accuracy: 0.9199 - val_loss: 0.3825 - val_accuracy: 0.8698\n",
      "10000/10000 [==============================] - 1s 50us/sample - loss: 0.4245 - accuracy: 0.8559\n",
      "\n",
      "-----------------------------------------------------------------------------------------------------\n",
      "\n",
      "Test #3\n",
      "Traning set size = 6875\n",
      "\n",
      "Train on 6875 samples, validate on 5000 samples\n",
      "Epoch 1/30\n",
      "6875/6875 [==============================] - 2s 317us/sample - loss: 1.1298 - accuracy: 0.6173 - val_loss: 0.9292 - val_accuracy: 0.7214\n",
      "Epoch 2/30\n",
      "6875/6875 [==============================] - 1s 174us/sample - loss: 0.7052 - accuracy: 0.7558 - val_loss: 0.6153 - val_accuracy: 0.7882\n",
      "Epoch 3/30\n",
      "6875/6875 [==============================] - 1s 174us/sample - loss: 0.6049 - accuracy: 0.7894 - val_loss: 0.5612 - val_accuracy: 0.8068\n",
      "Epoch 4/30\n",
      "6875/6875 [==============================] - 1s 175us/sample - loss: 0.5455 - accuracy: 0.8127 - val_loss: 0.5364 - val_accuracy: 0.8170\n",
      "Epoch 5/30\n",
      "6875/6875 [==============================] - 1s 176us/sample - loss: 0.5085 - accuracy: 0.8243 - val_loss: 0.5171 - val_accuracy: 0.8230\n",
      "Epoch 6/30\n",
      "6875/6875 [==============================] - 1s 174us/sample - loss: 0.4774 - accuracy: 0.8345 - val_loss: 0.5018 - val_accuracy: 0.8262\n",
      "Epoch 7/30\n",
      "6875/6875 [==============================] - 1s 174us/sample - loss: 0.4480 - accuracy: 0.8425 - val_loss: 0.4912 - val_accuracy: 0.8290\n",
      "Epoch 8/30\n",
      "6875/6875 [==============================] - 1s 174us/sample - loss: 0.4302 - accuracy: 0.8495 - val_loss: 0.4794 - val_accuracy: 0.8336\n",
      "Epoch 9/30\n",
      "6875/6875 [==============================] - 1s 175us/sample - loss: 0.4213 - accuracy: 0.8522 - val_loss: 0.4741 - val_accuracy: 0.8376\n",
      "Epoch 10/30\n",
      "6875/6875 [==============================] - 1s 176us/sample - loss: 0.3898 - accuracy: 0.8598 - val_loss: 0.4689 - val_accuracy: 0.8372\n",
      "Epoch 11/30\n",
      "6875/6875 [==============================] - 1s 174us/sample - loss: 0.3844 - accuracy: 0.8663 - val_loss: 0.4638 - val_accuracy: 0.8372\n",
      "Epoch 12/30\n",
      "6875/6875 [==============================] - 1s 175us/sample - loss: 0.3683 - accuracy: 0.8713 - val_loss: 0.4577 - val_accuracy: 0.8402\n",
      "Epoch 13/30\n",
      "6875/6875 [==============================] - 1s 175us/sample - loss: 0.3609 - accuracy: 0.8711 - val_loss: 0.4556 - val_accuracy: 0.8424\n",
      "Epoch 14/30\n",
      "6875/6875 [==============================] - 1s 175us/sample - loss: 0.3449 - accuracy: 0.8810 - val_loss: 0.4514 - val_accuracy: 0.8424\n",
      "Epoch 15/30\n",
      "6875/6875 [==============================] - 1s 176us/sample - loss: 0.3429 - accuracy: 0.8812 - val_loss: 0.4508 - val_accuracy: 0.8408\n",
      "Epoch 16/30\n",
      "6875/6875 [==============================] - 1s 176us/sample - loss: 0.3310 - accuracy: 0.8865 - val_loss: 0.4479 - val_accuracy: 0.8400\n",
      "Epoch 17/30\n",
      "6875/6875 [==============================] - 1s 174us/sample - loss: 0.3207 - accuracy: 0.8913 - val_loss: 0.4485 - val_accuracy: 0.8422\n",
      "Epoch 18/30\n",
      "6875/6875 [==============================] - 1s 174us/sample - loss: 0.3051 - accuracy: 0.8983 - val_loss: 0.4456 - val_accuracy: 0.8428\n",
      "Epoch 19/30\n",
      "6875/6875 [==============================] - 1s 174us/sample - loss: 0.2993 - accuracy: 0.8924 - val_loss: 0.4414 - val_accuracy: 0.8454\n",
      "Epoch 20/30\n",
      "6875/6875 [==============================] - 1s 175us/sample - loss: 0.2901 - accuracy: 0.9011 - val_loss: 0.4385 - val_accuracy: 0.8452\n",
      "Epoch 21/30\n",
      "6875/6875 [==============================] - 1s 173us/sample - loss: 0.2839 - accuracy: 0.9040 - val_loss: 0.4379 - val_accuracy: 0.8462\n",
      "Epoch 22/30\n",
      "6875/6875 [==============================] - 1s 175us/sample - loss: 0.2716 - accuracy: 0.9063 - val_loss: 0.4391 - val_accuracy: 0.8484\n",
      "Epoch 23/30\n",
      "6875/6875 [==============================] - 1s 174us/sample - loss: 0.2729 - accuracy: 0.9052 - val_loss: 0.4369 - val_accuracy: 0.8474\n",
      "Epoch 24/30\n",
      "6875/6875 [==============================] - 1s 173us/sample - loss: 0.2653 - accuracy: 0.9113 - val_loss: 0.4340 - val_accuracy: 0.8480\n",
      "Epoch 25/30\n",
      "6875/6875 [==============================] - 1s 175us/sample - loss: 0.2530 - accuracy: 0.9155 - val_loss: 0.4359 - val_accuracy: 0.8504\n",
      "Epoch 26/30\n",
      "6875/6875 [==============================] - 1s 174us/sample - loss: 0.2480 - accuracy: 0.9190 - val_loss: 0.4335 - val_accuracy: 0.8502\n",
      "Epoch 27/30\n",
      "6875/6875 [==============================] - 1s 173us/sample - loss: 0.2467 - accuracy: 0.9190 - val_loss: 0.4351 - val_accuracy: 0.8500\n",
      "Epoch 28/30\n",
      "6875/6875 [==============================] - 1s 172us/sample - loss: 0.2416 - accuracy: 0.9185 - val_loss: 0.4344 - val_accuracy: 0.8510\n",
      "Epoch 29/30\n",
      "6875/6875 [==============================] - 1s 173us/sample - loss: 0.2327 - accuracy: 0.9226 - val_loss: 0.4361 - val_accuracy: 0.8500\n",
      "Epoch 30/30\n",
      "6875/6875 [==============================] - 1s 172us/sample - loss: 0.2303 - accuracy: 0.9223 - val_loss: 0.4377 - val_accuracy: 0.8508\n",
      "10000/10000 [==============================] - 0s 49us/sample - loss: 0.4694 - accuracy: 0.8405\n",
      "\n",
      "-----------------------------------------------------------------------------------------------------\n",
      "\n",
      "Test #4\n",
      "Traning set size = 3438\n",
      "\n",
      "Train on 3438 samples, validate on 5000 samples\n",
      "Epoch 1/30\n",
      "3438/3438 [==============================] - 2s 537us/sample - loss: 1.4348 - accuracy: 0.5111 - val_loss: 1.5195 - val_accuracy: 0.6250\n",
      "Epoch 2/30\n",
      "3438/3438 [==============================] - 1s 210us/sample - loss: 0.8670 - accuracy: 0.7007 - val_loss: 0.9256 - val_accuracy: 0.7218\n",
      "Epoch 3/30\n",
      "3438/3438 [==============================] - 1s 211us/sample - loss: 0.7126 - accuracy: 0.7493 - val_loss: 0.6987 - val_accuracy: 0.7618\n",
      "Epoch 4/30\n",
      "3438/3438 [==============================] - 1s 213us/sample - loss: 0.6371 - accuracy: 0.7766 - val_loss: 0.6296 - val_accuracy: 0.7828\n",
      "Epoch 5/30\n",
      "3438/3438 [==============================] - 1s 214us/sample - loss: 0.5846 - accuracy: 0.7990 - val_loss: 0.5986 - val_accuracy: 0.7914\n",
      "Epoch 6/30\n",
      "3438/3438 [==============================] - 1s 213us/sample - loss: 0.5478 - accuracy: 0.8066 - val_loss: 0.5809 - val_accuracy: 0.7972\n",
      "Epoch 7/30\n",
      "3438/3438 [==============================] - 1s 217us/sample - loss: 0.5063 - accuracy: 0.8229 - val_loss: 0.5688 - val_accuracy: 0.8048\n",
      "Epoch 8/30\n",
      "3438/3438 [==============================] - 1s 217us/sample - loss: 0.4808 - accuracy: 0.8316 - val_loss: 0.5586 - val_accuracy: 0.8090\n",
      "Epoch 9/30\n",
      "3438/3438 [==============================] - 1s 221us/sample - loss: 0.4623 - accuracy: 0.8409 - val_loss: 0.5501 - val_accuracy: 0.8132\n",
      "Epoch 10/30\n",
      "3438/3438 [==============================] - 1s 203us/sample - loss: 0.4321 - accuracy: 0.8467 - val_loss: 0.5413 - val_accuracy: 0.8160\n",
      "Epoch 11/30\n",
      "3438/3438 [==============================] - 1s 211us/sample - loss: 0.4054 - accuracy: 0.8560 - val_loss: 0.5342 - val_accuracy: 0.8196\n",
      "Epoch 12/30\n",
      "3438/3438 [==============================] - 1s 209us/sample - loss: 0.4027 - accuracy: 0.8618 - val_loss: 0.5303 - val_accuracy: 0.8200\n",
      "Epoch 13/30\n",
      "3438/3438 [==============================] - 1s 212us/sample - loss: 0.3835 - accuracy: 0.8746 - val_loss: 0.5255 - val_accuracy: 0.8216\n",
      "Epoch 14/30\n"
     ]
    },
    {
     "name": "stdout",
     "output_type": "stream",
     "text": [
      "3438/3438 [==============================] - 1s 218us/sample - loss: 0.3673 - accuracy: 0.8697 - val_loss: 0.5234 - val_accuracy: 0.8218\n",
      "Epoch 15/30\n",
      "3438/3438 [==============================] - 1s 212us/sample - loss: 0.3515 - accuracy: 0.8816 - val_loss: 0.5153 - val_accuracy: 0.8250\n",
      "Epoch 16/30\n",
      "3438/3438 [==============================] - 1s 211us/sample - loss: 0.3454 - accuracy: 0.8831 - val_loss: 0.5116 - val_accuracy: 0.8248\n",
      "Epoch 17/30\n",
      "3438/3438 [==============================] - 1s 216us/sample - loss: 0.3404 - accuracy: 0.8866 - val_loss: 0.5138 - val_accuracy: 0.8258\n",
      "Epoch 18/30\n",
      "3438/3438 [==============================] - 1s 211us/sample - loss: 0.3250 - accuracy: 0.8874 - val_loss: 0.5095 - val_accuracy: 0.8290\n",
      "Epoch 19/30\n",
      "3438/3438 [==============================] - 1s 212us/sample - loss: 0.3125 - accuracy: 0.8988 - val_loss: 0.5065 - val_accuracy: 0.8274\n",
      "Epoch 20/30\n",
      "3438/3438 [==============================] - 1s 216us/sample - loss: 0.3026 - accuracy: 0.9034 - val_loss: 0.5073 - val_accuracy: 0.8300\n",
      "Epoch 21/30\n",
      "3438/3438 [==============================] - 1s 211us/sample - loss: 0.2961 - accuracy: 0.9066 - val_loss: 0.5028 - val_accuracy: 0.8306\n",
      "Epoch 22/30\n",
      "3438/3438 [==============================] - 1s 214us/sample - loss: 0.2767 - accuracy: 0.9110 - val_loss: 0.5016 - val_accuracy: 0.8310\n",
      "Epoch 23/30\n",
      "3438/3438 [==============================] - 1s 212us/sample - loss: 0.2831 - accuracy: 0.9098 - val_loss: 0.4980 - val_accuracy: 0.8308\n",
      "Epoch 24/30\n",
      "3438/3438 [==============================] - 1s 211us/sample - loss: 0.2780 - accuracy: 0.9078 - val_loss: 0.5005 - val_accuracy: 0.8314\n",
      "Epoch 25/30\n",
      "3438/3438 [==============================] - 1s 212us/sample - loss: 0.2559 - accuracy: 0.9209 - val_loss: 0.5007 - val_accuracy: 0.8304\n",
      "Epoch 26/30\n",
      "3438/3438 [==============================] - 1s 211us/sample - loss: 0.2552 - accuracy: 0.9206 - val_loss: 0.4978 - val_accuracy: 0.8304\n",
      "Epoch 27/30\n",
      "3438/3438 [==============================] - 1s 212us/sample - loss: 0.2497 - accuracy: 0.9218 - val_loss: 0.4979 - val_accuracy: 0.8320\n",
      "Epoch 28/30\n",
      "3438/3438 [==============================] - 1s 212us/sample - loss: 0.2383 - accuracy: 0.9296 - val_loss: 0.4981 - val_accuracy: 0.8316\n",
      "Epoch 29/30\n",
      "3438/3438 [==============================] - 1s 218us/sample - loss: 0.2334 - accuracy: 0.9279 - val_loss: 0.4964 - val_accuracy: 0.8336\n",
      "Epoch 30/30\n",
      "3438/3438 [==============================] - 1s 216us/sample - loss: 0.2293 - accuracy: 0.9270 - val_loss: 0.4968 - val_accuracy: 0.8348\n",
      "10000/10000 [==============================] - 1s 55us/sample - loss: 0.5236 - accuracy: 0.8248\n",
      "\n",
      "-----------------------------------------------------------------------------------------------------\n",
      "\n",
      "Test #5\n",
      "Traning set size = 1719\n",
      "\n",
      "Train on 1719 samples, validate on 5000 samples\n",
      "Epoch 1/30\n",
      "1719/1719 [==============================] - 2s 891us/sample - loss: 1.7817 - accuracy: 0.3985 - val_loss: 1.9332 - val_accuracy: 0.4402\n",
      "Epoch 2/30\n",
      "1719/1719 [==============================] - 1s 302us/sample - loss: 1.0687 - accuracy: 0.6318 - val_loss: 1.5151 - val_accuracy: 0.6334\n",
      "Epoch 3/30\n",
      "1719/1719 [==============================] - 1s 304us/sample - loss: 0.8589 - accuracy: 0.7120 - val_loss: 1.1623 - val_accuracy: 0.6988\n",
      "Epoch 4/30\n",
      "1719/1719 [==============================] - 1s 294us/sample - loss: 0.7583 - accuracy: 0.7388 - val_loss: 0.9193 - val_accuracy: 0.7304\n",
      "Epoch 5/30\n",
      "1719/1719 [==============================] - 1s 301us/sample - loss: 0.7088 - accuracy: 0.7673 - val_loss: 0.7825 - val_accuracy: 0.7516\n",
      "Epoch 6/30\n",
      "1719/1719 [==============================] - 1s 294us/sample - loss: 0.6460 - accuracy: 0.7917 - val_loss: 0.7071 - val_accuracy: 0.7662\n",
      "Epoch 7/30\n",
      "1719/1719 [==============================] - 1s 300us/sample - loss: 0.6065 - accuracy: 0.8051 - val_loss: 0.6652 - val_accuracy: 0.7768\n",
      "Epoch 8/30\n",
      "1719/1719 [==============================] - 1s 294us/sample - loss: 0.5531 - accuracy: 0.8197 - val_loss: 0.6399 - val_accuracy: 0.7838\n",
      "Epoch 9/30\n",
      "1719/1719 [==============================] - 1s 300us/sample - loss: 0.5313 - accuracy: 0.8243 - val_loss: 0.6224 - val_accuracy: 0.7882\n",
      "Epoch 10/30\n",
      "1719/1719 [==============================] - 1s 294us/sample - loss: 0.4948 - accuracy: 0.8412 - val_loss: 0.6090 - val_accuracy: 0.7956\n",
      "Epoch 11/30\n",
      "1719/1719 [==============================] - 1s 304us/sample - loss: 0.4831 - accuracy: 0.8464 - val_loss: 0.5987 - val_accuracy: 0.8000\n",
      "Epoch 12/30\n",
      "1719/1719 [==============================] - 1s 291us/sample - loss: 0.4618 - accuracy: 0.8418 - val_loss: 0.5918 - val_accuracy: 0.8000\n",
      "Epoch 13/30\n",
      "1719/1719 [==============================] - 1s 303us/sample - loss: 0.4358 - accuracy: 0.8569 - val_loss: 0.5868 - val_accuracy: 0.8038\n",
      "Epoch 14/30\n",
      "1719/1719 [==============================] - 1s 293us/sample - loss: 0.4247 - accuracy: 0.8633 - val_loss: 0.5821 - val_accuracy: 0.8072\n",
      "Epoch 15/30\n",
      "1719/1719 [==============================] - 1s 301us/sample - loss: 0.4112 - accuracy: 0.8615 - val_loss: 0.5761 - val_accuracy: 0.8072\n",
      "Epoch 16/30\n",
      "1719/1719 [==============================] - 1s 292us/sample - loss: 0.3848 - accuracy: 0.8813 - val_loss: 0.5738 - val_accuracy: 0.8066\n",
      "Epoch 17/30\n",
      "1719/1719 [==============================] - 1s 296us/sample - loss: 0.3715 - accuracy: 0.8819 - val_loss: 0.5690 - val_accuracy: 0.8108\n",
      "Epoch 18/30\n",
      "1719/1719 [==============================] - 0s 290us/sample - loss: 0.3620 - accuracy: 0.8866 - val_loss: 0.5644 - val_accuracy: 0.8092\n",
      "Epoch 19/30\n",
      "1719/1719 [==============================] - 1s 300us/sample - loss: 0.3601 - accuracy: 0.8790 - val_loss: 0.5613 - val_accuracy: 0.8108\n",
      "Epoch 20/30\n",
      "1719/1719 [==============================] - 1s 297us/sample - loss: 0.3367 - accuracy: 0.8918 - val_loss: 0.5601 - val_accuracy: 0.8112\n",
      "Epoch 21/30\n",
      "1719/1719 [==============================] - 1s 299us/sample - loss: 0.3266 - accuracy: 0.8953 - val_loss: 0.5562 - val_accuracy: 0.8148\n",
      "Epoch 22/30\n",
      "1719/1719 [==============================] - 1s 294us/sample - loss: 0.3043 - accuracy: 0.9081 - val_loss: 0.5563 - val_accuracy: 0.8128\n",
      "Epoch 23/30\n",
      "1719/1719 [==============================] - 1s 298us/sample - loss: 0.2972 - accuracy: 0.9139 - val_loss: 0.5530 - val_accuracy: 0.8146\n",
      "Epoch 24/30\n",
      "1719/1719 [==============================] - 1s 301us/sample - loss: 0.2945 - accuracy: 0.9145 - val_loss: 0.5505 - val_accuracy: 0.8170\n",
      "Epoch 25/30\n",
      "1719/1719 [==============================] - 1s 301us/sample - loss: 0.2912 - accuracy: 0.9087 - val_loss: 0.5494 - val_accuracy: 0.8180\n",
      "Epoch 26/30\n",
      "1719/1719 [==============================] - 1s 305us/sample - loss: 0.2821 - accuracy: 0.9186 - val_loss: 0.5485 - val_accuracy: 0.8166\n",
      "Epoch 27/30\n",
      "1719/1719 [==============================] - 1s 306us/sample - loss: 0.2721 - accuracy: 0.9197 - val_loss: 0.5453 - val_accuracy: 0.8208\n",
      "Epoch 28/30\n",
      "1719/1719 [==============================] - 1s 319us/sample - loss: 0.2679 - accuracy: 0.9232 - val_loss: 0.5471 - val_accuracy: 0.8190\n",
      "Epoch 29/30\n",
      "1719/1719 [==============================] - 0s 285us/sample - loss: 0.2567 - accuracy: 0.9314 - val_loss: 0.5462 - val_accuracy: 0.8194\n",
      "Epoch 30/30\n",
      "1719/1719 [==============================] - 1s 295us/sample - loss: 0.2511 - accuracy: 0.9325 - val_loss: 0.5451 - val_accuracy: 0.8228\n",
      "10000/10000 [==============================] - 0s 49us/sample - loss: 0.5872 - accuracy: 0.8039\n",
      "\n",
      "-----------------------------------------------------------------------------------------------------\n",
      "\n",
      "Test #6\n",
      "Traning set size = 860\n",
      "\n",
      "Train on 860 samples, validate on 5000 samples\n",
      "Epoch 1/30\n",
      "860/860 [==============================] - 1s 2ms/sample - loss: 2.3089 - accuracy: 0.2302 - val_loss: 2.1420 - val_accuracy: 0.2224\n",
      "Epoch 2/30\n",
      "860/860 [==============================] - 0s 469us/sample - loss: 1.3420 - accuracy: 0.5686 - val_loss: 1.9425 - val_accuracy: 0.4748\n",
      "Epoch 3/30\n",
      "860/860 [==============================] - 0s 477us/sample - loss: 1.0942 - accuracy: 0.6430 - val_loss: 1.7503 - val_accuracy: 0.5936\n",
      "Epoch 4/30\n",
      "860/860 [==============================] - 0s 460us/sample - loss: 0.9601 - accuracy: 0.6895 - val_loss: 1.5574 - val_accuracy: 0.6414\n",
      "Epoch 5/30\n"
     ]
    },
    {
     "name": "stdout",
     "output_type": "stream",
     "text": [
      "860/860 [==============================] - 0s 471us/sample - loss: 0.8417 - accuracy: 0.7256 - val_loss: 1.3794 - val_accuracy: 0.6740\n",
      "Epoch 6/30\n",
      "860/860 [==============================] - 0s 465us/sample - loss: 0.7683 - accuracy: 0.7593 - val_loss: 1.2113 - val_accuracy: 0.6934\n",
      "Epoch 7/30\n",
      "860/860 [==============================] - 0s 447us/sample - loss: 0.7249 - accuracy: 0.7686 - val_loss: 1.0733 - val_accuracy: 0.7100\n",
      "Epoch 8/30\n",
      "860/860 [==============================] - 0s 454us/sample - loss: 0.6597 - accuracy: 0.7802 - val_loss: 0.9664 - val_accuracy: 0.7210\n",
      "Epoch 9/30\n",
      "860/860 [==============================] - 0s 451us/sample - loss: 0.6130 - accuracy: 0.8151 - val_loss: 0.8834 - val_accuracy: 0.7310\n",
      "Epoch 10/30\n",
      "860/860 [==============================] - 0s 461us/sample - loss: 0.5955 - accuracy: 0.8267 - val_loss: 0.8209 - val_accuracy: 0.7430\n",
      "Epoch 11/30\n",
      "860/860 [==============================] - 0s 454us/sample - loss: 0.5521 - accuracy: 0.8337 - val_loss: 0.7759 - val_accuracy: 0.7500\n",
      "Epoch 12/30\n",
      "860/860 [==============================] - 0s 453us/sample - loss: 0.5435 - accuracy: 0.8419 - val_loss: 0.7429 - val_accuracy: 0.7556\n",
      "Epoch 13/30\n",
      "860/860 [==============================] - 0s 462us/sample - loss: 0.5057 - accuracy: 0.8419 - val_loss: 0.7244 - val_accuracy: 0.7592\n",
      "Epoch 14/30\n",
      "860/860 [==============================] - 0s 452us/sample - loss: 0.4931 - accuracy: 0.8430 - val_loss: 0.7078 - val_accuracy: 0.7628\n",
      "Epoch 15/30\n",
      "860/860 [==============================] - 0s 448us/sample - loss: 0.4574 - accuracy: 0.8547 - val_loss: 0.6936 - val_accuracy: 0.7668\n",
      "Epoch 16/30\n",
      "860/860 [==============================] - 0s 449us/sample - loss: 0.4145 - accuracy: 0.8872 - val_loss: 0.6831 - val_accuracy: 0.7698\n",
      "Epoch 17/30\n",
      "860/860 [==============================] - 0s 448us/sample - loss: 0.4328 - accuracy: 0.8698 - val_loss: 0.6794 - val_accuracy: 0.7728\n",
      "Epoch 18/30\n",
      "860/860 [==============================] - 0s 469us/sample - loss: 0.4088 - accuracy: 0.8779 - val_loss: 0.6745 - val_accuracy: 0.7718\n",
      "Epoch 19/30\n",
      "860/860 [==============================] - 0s 453us/sample - loss: 0.3775 - accuracy: 0.8942 - val_loss: 0.6681 - val_accuracy: 0.7754\n",
      "Epoch 20/30\n",
      "860/860 [==============================] - 0s 471us/sample - loss: 0.3793 - accuracy: 0.8919 - val_loss: 0.6629 - val_accuracy: 0.7766\n",
      "Epoch 21/30\n",
      "860/860 [==============================] - 0s 459us/sample - loss: 0.3658 - accuracy: 0.8965 - val_loss: 0.6606 - val_accuracy: 0.7758\n",
      "Epoch 22/30\n",
      "860/860 [==============================] - 0s 473us/sample - loss: 0.3585 - accuracy: 0.8953 - val_loss: 0.6592 - val_accuracy: 0.7760\n",
      "Epoch 23/30\n",
      "860/860 [==============================] - 0s 475us/sample - loss: 0.3368 - accuracy: 0.9058 - val_loss: 0.6577 - val_accuracy: 0.7784\n",
      "Epoch 24/30\n",
      "860/860 [==============================] - 0s 486us/sample - loss: 0.3277 - accuracy: 0.9128 - val_loss: 0.6558 - val_accuracy: 0.7774\n",
      "Epoch 25/30\n",
      "860/860 [==============================] - 0s 497us/sample - loss: 0.3098 - accuracy: 0.9140 - val_loss: 0.6534 - val_accuracy: 0.7808\n",
      "Epoch 26/30\n",
      "860/860 [==============================] - 0s 491us/sample - loss: 0.3183 - accuracy: 0.9140 - val_loss: 0.6516 - val_accuracy: 0.7798\n",
      "Epoch 27/30\n",
      "860/860 [==============================] - 0s 499us/sample - loss: 0.2892 - accuracy: 0.9267 - val_loss: 0.6523 - val_accuracy: 0.7806\n",
      "Epoch 28/30\n",
      "860/860 [==============================] - 0s 488us/sample - loss: 0.2791 - accuracy: 0.9337 - val_loss: 0.6500 - val_accuracy: 0.7812\n",
      "Epoch 29/30\n",
      "860/860 [==============================] - 0s 499us/sample - loss: 0.2663 - accuracy: 0.9314 - val_loss: 0.6493 - val_accuracy: 0.7820\n",
      "Epoch 30/30\n",
      "860/860 [==============================] - 0s 494us/sample - loss: 0.2538 - accuracy: 0.9430 - val_loss: 0.6474 - val_accuracy: 0.7830\n",
      "10000/10000 [==============================] - 1s 54us/sample - loss: 0.6917 - accuracy: 0.7676\n",
      "\n",
      "-----------------------------------------------------------------------------------------------------\n",
      "\n",
      "Test #7\n",
      "Traning set size = 430\n",
      "\n",
      "Train on 430 samples, validate on 5000 samples\n",
      "Epoch 1/30\n",
      "430/430 [==============================] - 2s 4ms/sample - loss: 2.4099 - accuracy: 0.2116 - val_loss: 2.2393 - val_accuracy: 0.1018\n",
      "Epoch 2/30\n",
      "430/430 [==============================] - 0s 814us/sample - loss: 1.7424 - accuracy: 0.4140 - val_loss: 2.1341 - val_accuracy: 0.3118\n",
      "Epoch 3/30\n",
      "430/430 [==============================] - 0s 814us/sample - loss: 1.3380 - accuracy: 0.5512 - val_loss: 2.0379 - val_accuracy: 0.4242\n",
      "Epoch 4/30\n",
      "430/430 [==============================] - 0s 807us/sample - loss: 1.1449 - accuracy: 0.6233 - val_loss: 1.9417 - val_accuracy: 0.4980\n",
      "Epoch 5/30\n",
      "430/430 [==============================] - 0s 809us/sample - loss: 0.9822 - accuracy: 0.6953 - val_loss: 1.8431 - val_accuracy: 0.5422\n",
      "Epoch 6/30\n",
      "430/430 [==============================] - 0s 858us/sample - loss: 0.9039 - accuracy: 0.7256 - val_loss: 1.7474 - val_accuracy: 0.5684\n",
      "Epoch 7/30\n",
      "430/430 [==============================] - 0s 861us/sample - loss: 0.7873 - accuracy: 0.7558 - val_loss: 1.6495 - val_accuracy: 0.5888\n",
      "Epoch 8/30\n",
      "430/430 [==============================] - 0s 862us/sample - loss: 0.7497 - accuracy: 0.7767 - val_loss: 1.5522 - val_accuracy: 0.6084\n",
      "Epoch 9/30\n",
      "430/430 [==============================] - 0s 868us/sample - loss: 0.6567 - accuracy: 0.8116 - val_loss: 1.4551 - val_accuracy: 0.6340\n",
      "Epoch 10/30\n",
      "430/430 [==============================] - 0s 847us/sample - loss: 0.6569 - accuracy: 0.7953 - val_loss: 1.3670 - val_accuracy: 0.6468\n",
      "Epoch 11/30\n",
      "430/430 [==============================] - 0s 826us/sample - loss: 0.6175 - accuracy: 0.8209 - val_loss: 1.2854 - val_accuracy: 0.6536\n",
      "Epoch 12/30\n",
      "430/430 [==============================] - 0s 828us/sample - loss: 0.5813 - accuracy: 0.8070 - val_loss: 1.2102 - val_accuracy: 0.6676\n",
      "Epoch 13/30\n",
      "430/430 [==============================] - 0s 835us/sample - loss: 0.5915 - accuracy: 0.8163 - val_loss: 1.1440 - val_accuracy: 0.6762\n",
      "Epoch 14/30\n",
      "430/430 [==============================] - 0s 821us/sample - loss: 0.5281 - accuracy: 0.8651 - val_loss: 1.0857 - val_accuracy: 0.6874\n",
      "Epoch 15/30\n",
      "430/430 [==============================] - 0s 826us/sample - loss: 0.5082 - accuracy: 0.8628 - val_loss: 1.0297 - val_accuracy: 0.6946\n",
      "Epoch 16/30\n",
      "430/430 [==============================] - 0s 797us/sample - loss: 0.4739 - accuracy: 0.8884 - val_loss: 0.9753 - val_accuracy: 0.7108\n",
      "Epoch 17/30\n",
      "430/430 [==============================] - 0s 830us/sample - loss: 0.4895 - accuracy: 0.8721 - val_loss: 0.9367 - val_accuracy: 0.7124\n",
      "Epoch 18/30\n",
      "430/430 [==============================] - 0s 837us/sample - loss: 0.4395 - accuracy: 0.8791 - val_loss: 0.8996 - val_accuracy: 0.7188\n",
      "Epoch 19/30\n",
      "430/430 [==============================] - 0s 800us/sample - loss: 0.4092 - accuracy: 0.8930 - val_loss: 0.8711 - val_accuracy: 0.7278\n",
      "Epoch 20/30\n",
      "430/430 [==============================] - 0s 854us/sample - loss: 0.4183 - accuracy: 0.8930 - val_loss: 0.8461 - val_accuracy: 0.7316\n",
      "Epoch 21/30\n",
      "430/430 [==============================] - 0s 825us/sample - loss: 0.3742 - accuracy: 0.9047 - val_loss: 0.8284 - val_accuracy: 0.7328\n",
      "Epoch 22/30\n",
      "430/430 [==============================] - 0s 782us/sample - loss: 0.3884 - accuracy: 0.8977 - val_loss: 0.8120 - val_accuracy: 0.7370\n",
      "Epoch 23/30\n",
      "430/430 [==============================] - 0s 828us/sample - loss: 0.3788 - accuracy: 0.9070 - val_loss: 0.7955 - val_accuracy: 0.7412\n",
      "Epoch 24/30\n",
      "430/430 [==============================] - 0s 831us/sample - loss: 0.3411 - accuracy: 0.9163 - val_loss: 0.7846 - val_accuracy: 0.7420\n",
      "Epoch 25/30\n",
      "430/430 [==============================] - 0s 784us/sample - loss: 0.3303 - accuracy: 0.9349 - val_loss: 0.7750 - val_accuracy: 0.7478\n",
      "Epoch 26/30\n",
      "430/430 [==============================] - 0s 777us/sample - loss: 0.3439 - accuracy: 0.9093 - val_loss: 0.7660 - val_accuracy: 0.7502\n",
      "Epoch 27/30\n",
      "430/430 [==============================] - 0s 800us/sample - loss: 0.3143 - accuracy: 0.9302 - val_loss: 0.7608 - val_accuracy: 0.7524\n",
      "Epoch 28/30\n",
      "430/430 [==============================] - 0s 798us/sample - loss: 0.2868 - accuracy: 0.9488 - val_loss: 0.7574 - val_accuracy: 0.7504\n",
      "Epoch 29/30\n"
     ]
    },
    {
     "name": "stdout",
     "output_type": "stream",
     "text": [
      "430/430 [==============================] - 0s 781us/sample - loss: 0.3108 - accuracy: 0.9349 - val_loss: 0.7503 - val_accuracy: 0.7574\n",
      "Epoch 30/30\n",
      "430/430 [==============================] - 0s 817us/sample - loss: 0.3155 - accuracy: 0.9186 - val_loss: 0.7456 - val_accuracy: 0.7578\n",
      "10000/10000 [==============================] - 0s 49us/sample - loss: 0.7733 - accuracy: 0.7384\n",
      "\n",
      "-----------------------------------------------------------------------------------------------------\n",
      "\n",
      "Test #8\n",
      "Traning set size = 215\n",
      "\n",
      "Train on 215 samples, validate on 5000 samples\n",
      "Epoch 1/30\n",
      "215/215 [==============================] - 1s 6ms/sample - loss: 2.7502 - accuracy: 0.1302 - val_loss: 2.2930 - val_accuracy: 0.1160\n",
      "Epoch 2/30\n",
      "215/215 [==============================] - 0s 1ms/sample - loss: 2.1247 - accuracy: 0.2837 - val_loss: 2.2340 - val_accuracy: 0.1468\n",
      "Epoch 3/30\n",
      "215/215 [==============================] - 0s 2ms/sample - loss: 1.6941 - accuracy: 0.4140 - val_loss: 2.1799 - val_accuracy: 0.1888\n",
      "Epoch 4/30\n",
      "215/215 [==============================] - 0s 2ms/sample - loss: 1.4645 - accuracy: 0.5302 - val_loss: 2.1308 - val_accuracy: 0.2334\n",
      "Epoch 5/30\n",
      "215/215 [==============================] - 0s 2ms/sample - loss: 1.2363 - accuracy: 0.5907 - val_loss: 2.0841 - val_accuracy: 0.2808\n",
      "Epoch 6/30\n",
      "215/215 [==============================] - 0s 1ms/sample - loss: 1.1265 - accuracy: 0.6326 - val_loss: 2.0399 - val_accuracy: 0.3266\n",
      "Epoch 7/30\n",
      "215/215 [==============================] - 0s 2ms/sample - loss: 1.0104 - accuracy: 0.7302 - val_loss: 1.9959 - val_accuracy: 0.3696\n",
      "Epoch 8/30\n",
      "215/215 [==============================] - 0s 2ms/sample - loss: 0.9565 - accuracy: 0.7209 - val_loss: 1.9516 - val_accuracy: 0.4114\n",
      "Epoch 9/30\n",
      "215/215 [==============================] - 0s 1ms/sample - loss: 0.9004 - accuracy: 0.7395 - val_loss: 1.9071 - val_accuracy: 0.4382\n",
      "Epoch 10/30\n",
      "215/215 [==============================] - 0s 1ms/sample - loss: 0.8320 - accuracy: 0.7256 - val_loss: 1.8633 - val_accuracy: 0.4650\n",
      "Epoch 11/30\n",
      "215/215 [==============================] - 0s 1ms/sample - loss: 0.7499 - accuracy: 0.7860 - val_loss: 1.8219 - val_accuracy: 0.4796\n",
      "Epoch 12/30\n",
      "215/215 [==============================] - 0s 1ms/sample - loss: 0.6995 - accuracy: 0.7814 - val_loss: 1.7776 - val_accuracy: 0.4956\n",
      "Epoch 13/30\n",
      "215/215 [==============================] - 0s 1ms/sample - loss: 0.6267 - accuracy: 0.8233 - val_loss: 1.7332 - val_accuracy: 0.5112\n",
      "Epoch 14/30\n",
      "215/215 [==============================] - 0s 1ms/sample - loss: 0.6111 - accuracy: 0.8372 - val_loss: 1.6911 - val_accuracy: 0.5268\n",
      "Epoch 15/30\n",
      "215/215 [==============================] - 0s 2ms/sample - loss: 0.5857 - accuracy: 0.8465 - val_loss: 1.6467 - val_accuracy: 0.5424\n",
      "Epoch 16/30\n",
      "215/215 [==============================] - 0s 1ms/sample - loss: 0.5332 - accuracy: 0.8744 - val_loss: 1.6049 - val_accuracy: 0.5502\n",
      "Epoch 17/30\n",
      "215/215 [==============================] - 0s 1ms/sample - loss: 0.5278 - accuracy: 0.8605 - val_loss: 1.5627 - val_accuracy: 0.5666\n",
      "Epoch 18/30\n",
      "215/215 [==============================] - 0s 1ms/sample - loss: 0.5004 - accuracy: 0.8791 - val_loss: 1.5228 - val_accuracy: 0.5778\n",
      "Epoch 19/30\n",
      "215/215 [==============================] - 0s 1ms/sample - loss: 0.4301 - accuracy: 0.8930 - val_loss: 1.4815 - val_accuracy: 0.5912\n",
      "Epoch 20/30\n",
      "215/215 [==============================] - 0s 1ms/sample - loss: 0.4535 - accuracy: 0.8837 - val_loss: 1.4412 - val_accuracy: 0.6006\n",
      "Epoch 21/30\n",
      "215/215 [==============================] - 0s 1ms/sample - loss: 0.4577 - accuracy: 0.8837 - val_loss: 1.4002 - val_accuracy: 0.6128\n",
      "Epoch 22/30\n",
      "215/215 [==============================] - 0s 2ms/sample - loss: 0.4421 - accuracy: 0.8884 - val_loss: 1.3627 - val_accuracy: 0.6218\n",
      "Epoch 23/30\n",
      "215/215 [==============================] - 0s 2ms/sample - loss: 0.4190 - accuracy: 0.9023 - val_loss: 1.3249 - val_accuracy: 0.6310\n",
      "Epoch 24/30\n",
      "215/215 [==============================] - 0s 1ms/sample - loss: 0.3614 - accuracy: 0.9442 - val_loss: 1.2914 - val_accuracy: 0.6368\n",
      "Epoch 25/30\n",
      "215/215 [==============================] - 0s 2ms/sample - loss: 0.3602 - accuracy: 0.9209 - val_loss: 1.2626 - val_accuracy: 0.6402\n",
      "Epoch 26/30\n",
      "215/215 [==============================] - 0s 2ms/sample - loss: 0.3432 - accuracy: 0.9349 - val_loss: 1.2311 - val_accuracy: 0.6504\n",
      "Epoch 27/30\n",
      "215/215 [==============================] - 0s 1ms/sample - loss: 0.3126 - accuracy: 0.9488 - val_loss: 1.2022 - val_accuracy: 0.6552\n",
      "Epoch 28/30\n",
      "215/215 [==============================] - 0s 1ms/sample - loss: 0.3087 - accuracy: 0.9349 - val_loss: 1.1752 - val_accuracy: 0.6614\n",
      "Epoch 29/30\n",
      "215/215 [==============================] - 0s 1ms/sample - loss: 0.3010 - accuracy: 0.9535 - val_loss: 1.1512 - val_accuracy: 0.6630\n",
      "Epoch 30/30\n",
      "215/215 [==============================] - 0s 1ms/sample - loss: 0.2919 - accuracy: 0.9581 - val_loss: 1.1270 - val_accuracy: 0.6662\n",
      "10000/10000 [==============================] - 0s 49us/sample - loss: 1.1714 - accuracy: 0.6440\n",
      "\n",
      "-----------------------------------------------------------------------------------------------------\n",
      "\n",
      "Test #9\n",
      "Traning set size = 108\n",
      "\n",
      "Train on 108 samples, validate on 5000 samples\n",
      "Epoch 1/30\n",
      "108/108 [==============================] - 1s 12ms/sample - loss: 2.9079 - accuracy: 0.1481 - val_loss: 2.3523 - val_accuracy: 0.1138\n",
      "Epoch 2/30\n",
      "108/108 [==============================] - 0s 3ms/sample - loss: 2.4429 - accuracy: 0.2315 - val_loss: 2.3114 - val_accuracy: 0.1166\n",
      "Epoch 3/30\n",
      "108/108 [==============================] - 0s 3ms/sample - loss: 2.0050 - accuracy: 0.3426 - val_loss: 2.2766 - val_accuracy: 0.1256\n",
      "Epoch 4/30\n",
      "108/108 [==============================] - 0s 3ms/sample - loss: 1.6400 - accuracy: 0.4167 - val_loss: 2.2408 - val_accuracy: 0.1382\n",
      "Epoch 5/30\n",
      "108/108 [==============================] - 0s 3ms/sample - loss: 1.4246 - accuracy: 0.5648 - val_loss: 2.2085 - val_accuracy: 0.1544\n",
      "Epoch 6/30\n",
      "108/108 [==============================] - 0s 3ms/sample - loss: 1.2608 - accuracy: 0.5833 - val_loss: 2.1793 - val_accuracy: 0.1818\n",
      "Epoch 7/30\n",
      "108/108 [==============================] - 0s 3ms/sample - loss: 1.1271 - accuracy: 0.6759 - val_loss: 2.1493 - val_accuracy: 0.2128\n",
      "Epoch 8/30\n",
      "108/108 [==============================] - 0s 3ms/sample - loss: 1.0450 - accuracy: 0.6852 - val_loss: 2.1203 - val_accuracy: 0.2474\n",
      "Epoch 9/30\n",
      "108/108 [==============================] - 0s 3ms/sample - loss: 0.9055 - accuracy: 0.7685 - val_loss: 2.0916 - val_accuracy: 0.2850\n",
      "Epoch 10/30\n",
      "108/108 [==============================] - 0s 3ms/sample - loss: 0.8100 - accuracy: 0.8056 - val_loss: 2.0654 - val_accuracy: 0.3252\n",
      "Epoch 11/30\n",
      "108/108 [==============================] - 0s 3ms/sample - loss: 0.7701 - accuracy: 0.8056 - val_loss: 2.0383 - val_accuracy: 0.3590\n",
      "Epoch 12/30\n",
      "108/108 [==============================] - 0s 3ms/sample - loss: 0.7233 - accuracy: 0.8056 - val_loss: 2.0129 - val_accuracy: 0.3900\n",
      "Epoch 13/30\n",
      "108/108 [==============================] - 0s 3ms/sample - loss: 0.6256 - accuracy: 0.8704 - val_loss: 1.9882 - val_accuracy: 0.4120\n",
      "Epoch 14/30\n",
      "108/108 [==============================] - 0s 3ms/sample - loss: 0.6055 - accuracy: 0.8426 - val_loss: 1.9638 - val_accuracy: 0.4288\n",
      "Epoch 15/30\n",
      "108/108 [==============================] - 0s 3ms/sample - loss: 0.5824 - accuracy: 0.8519 - val_loss: 1.9427 - val_accuracy: 0.4460\n",
      "Epoch 16/30\n",
      "108/108 [==============================] - 0s 3ms/sample - loss: 0.5365 - accuracy: 0.8704 - val_loss: 1.9208 - val_accuracy: 0.4616\n",
      "Epoch 17/30\n",
      "108/108 [==============================] - 0s 3ms/sample - loss: 0.5312 - accuracy: 0.8796 - val_loss: 1.8972 - val_accuracy: 0.4744\n",
      "Epoch 18/30\n",
      "108/108 [==============================] - 0s 3ms/sample - loss: 0.5073 - accuracy: 0.8796 - val_loss: 1.8727 - val_accuracy: 0.4914\n",
      "Epoch 19/30\n",
      "108/108 [==============================] - 0s 3ms/sample - loss: 0.4491 - accuracy: 0.9074 - val_loss: 1.8505 - val_accuracy: 0.4958\n",
      "Epoch 20/30\n",
      "108/108 [==============================] - 0s 3ms/sample - loss: 0.4598 - accuracy: 0.9074 - val_loss: 1.8277 - val_accuracy: 0.4988\n",
      "Epoch 21/30\n",
      "108/108 [==============================] - 0s 3ms/sample - loss: 0.4043 - accuracy: 0.9352 - val_loss: 1.8061 - val_accuracy: 0.5072\n"
     ]
    },
    {
     "name": "stdout",
     "output_type": "stream",
     "text": [
      "Epoch 22/30\n",
      "108/108 [==============================] - 0s 3ms/sample - loss: 0.3618 - accuracy: 0.9537 - val_loss: 1.7838 - val_accuracy: 0.5134\n",
      "Epoch 23/30\n",
      "108/108 [==============================] - 0s 3ms/sample - loss: 0.3868 - accuracy: 0.9167 - val_loss: 1.7639 - val_accuracy: 0.5160\n",
      "Epoch 24/30\n",
      "108/108 [==============================] - 0s 3ms/sample - loss: 0.3536 - accuracy: 0.9537 - val_loss: 1.7425 - val_accuracy: 0.5220\n",
      "Epoch 25/30\n",
      "108/108 [==============================] - 0s 3ms/sample - loss: 0.3300 - accuracy: 0.9352 - val_loss: 1.7225 - val_accuracy: 0.5234\n",
      "Epoch 26/30\n",
      "108/108 [==============================] - 0s 3ms/sample - loss: 0.2659 - accuracy: 0.9722 - val_loss: 1.7040 - val_accuracy: 0.5266\n",
      "Epoch 27/30\n",
      "108/108 [==============================] - 0s 3ms/sample - loss: 0.2895 - accuracy: 0.9537 - val_loss: 1.6845 - val_accuracy: 0.5304\n",
      "Epoch 28/30\n",
      "108/108 [==============================] - 0s 3ms/sample - loss: 0.2990 - accuracy: 0.9537 - val_loss: 1.6642 - val_accuracy: 0.5346\n",
      "Epoch 29/30\n",
      "108/108 [==============================] - 0s 3ms/sample - loss: 0.2544 - accuracy: 0.9815 - val_loss: 1.6433 - val_accuracy: 0.5398\n",
      "Epoch 30/30\n",
      "108/108 [==============================] - 0s 3ms/sample - loss: 0.2714 - accuracy: 0.9815 - val_loss: 1.6240 - val_accuracy: 0.5418\n",
      "10000/10000 [==============================] - 0s 48us/sample - loss: 1.6508 - accuracy: 0.5196\n",
      "\n",
      "-----------------------------------------------------------------------------------------------------\n"
     ]
    }
   ],
   "source": [
    "epochs = 30;\n",
    "previous_size = testModels(X_train_havled, y_train_halved, 30)"
   ]
  },
  {
   "cell_type": "markdown",
   "metadata": {},
   "source": [
    "The accuracy scores of all training attemps are as follow:"
   ]
  },
  {
   "cell_type": "code",
   "execution_count": 42,
   "metadata": {},
   "outputs": [
    {
     "data": {
      "text/plain": [
       "[0.8814, 0.8686, 0.8559, 0.8405, 0.8248, 0.8039, 0.7676, 0.7384, 0.644, 0.5196]"
      ]
     },
     "execution_count": 42,
     "metadata": {},
     "output_type": "execute_result"
    }
   ],
   "source": [
    "accuracy_record"
   ]
  },
  {
   "cell_type": "markdown",
   "metadata": {},
   "source": [
    "Prepare the new training set for the next steps"
   ]
  },
  {
   "cell_type": "code",
   "execution_count": 43,
   "metadata": {},
   "outputs": [],
   "source": [
    "X_train_halved_final = X_train[:previous_size]\n",
    "y_train_halved_final = y_train[:previous_size]"
   ]
  },
  {
   "cell_type": "code",
   "execution_count": 44,
   "metadata": {},
   "outputs": [
    {
     "data": {
      "text/plain": [
       "(54, 28, 28)"
      ]
     },
     "execution_count": 44,
     "metadata": {},
     "output_type": "execute_result"
    }
   ],
   "source": [
    "X_train_havled_final.shape"
   ]
  },
  {
   "cell_type": "markdown",
   "metadata": {},
   "source": [
    "## Train a Convolutional Autoencoder\n",
    "\n",
    "### Progress Log 3\n",
    "\n",
    "At the point, we trained a convulutional autoencoder. Initially, the autoencoder will be trained on the full training set leaving out the labels y_train and y_valid (i.e. train the encoder on unlabelled data), just like what we were expected to do."
   ]
  },
  {
   "cell_type": "markdown",
   "metadata": {},
   "source": [
    "Define a method to plot the image of a given data point."
   ]
  },
  {
   "cell_type": "code",
   "execution_count": 139,
   "metadata": {},
   "outputs": [],
   "source": [
    "def plot_image(image):\n",
    "    plt.imshow(image, cmap=\"binary\")\n",
    "    plt.axis(\"off\")"
   ]
  },
  {
   "cell_type": "markdown",
   "metadata": {},
   "source": [
    "Define the image that will show the reconstruction of an image."
   ]
  },
  {
   "cell_type": "code",
   "execution_count": 140,
   "metadata": {},
   "outputs": [],
   "source": [
    "def show_reconstructions(model, images=X_valid, n_images=5):\n",
    "    reconstructions = model.predict(images[:n_images])\n",
    "    fig = plt.figure(figsize=(n_images * 1.5, 3))\n",
    "    for image_index in range(n_images):\n",
    "        plt.subplot(2, n_images, 1 + image_index)\n",
    "        plot_image(images[image_index])\n",
    "        plt.subplot(2, n_images, 1 + n_images + image_index)\n",
    "        plot_image(reconstructions[image_index])"
   ]
  },
  {
   "cell_type": "markdown",
   "metadata": {},
   "source": [
    "Define an image for rounded accuracy using keras."
   ]
  },
  {
   "cell_type": "code",
   "execution_count": 141,
   "metadata": {},
   "outputs": [],
   "source": [
    "def rounded_accuracy(y_true, y_pred):\n",
    "    return keras.metrics.binary_accuracy(tf.round(y_true), tf.round(y_pred))"
   ]
  },
  {
   "cell_type": "markdown",
   "metadata": {},
   "source": [
    "Build and train the autoencoder."
   ]
  },
  {
   "cell_type": "code",
   "execution_count": 142,
   "metadata": {},
   "outputs": [],
   "source": [
    "keras.backend.clear_session()\n",
    "np.random.seed(42)\n",
    "tf.random.set_seed(42)"
   ]
  },
  {
   "cell_type": "code",
   "execution_count": 144,
   "metadata": {},
   "outputs": [
    {
     "name": "stdout",
     "output_type": "stream",
     "text": [
      "Train on 55000 samples, validate on 5000 samples\n",
      "Epoch 1/5\n",
      "55000/55000 [==============================] - 54s 980us/sample - loss: 0.3020 - accuracy: 0.5059 - val_loss: 0.2783 - val_accuracy: 0.5107\n",
      "Epoch 2/5\n",
      "55000/55000 [==============================] - 52s 951us/sample - loss: 0.2762 - accuracy: 0.5082 - val_loss: 0.2685 - val_accuracy: 0.5120\n",
      "Epoch 3/5\n",
      "55000/55000 [==============================] - 53s 960us/sample - loss: 0.2713 - accuracy: 0.5086 - val_loss: 0.2661 - val_accuracy: 0.5122\n",
      "Epoch 4/5\n",
      "55000/55000 [==============================] - 52s 947us/sample - loss: 0.2686 - accuracy: 0.5088 - val_loss: 0.2637 - val_accuracy: 0.5122\n",
      "Epoch 5/5\n",
      "55000/55000 [==============================] - 52s 948us/sample - loss: 0.2668 - accuracy: 0.5089 - val_loss: 0.2619 - val_accuracy: 0.5123\n"
     ]
    }
   ],
   "source": [
    "conv_encoder = keras.models.Sequential([\n",
    "    keras.layers.Reshape([28, 28, 1], input_shape=[28, 28]),\n",
    "    keras.layers.Conv2D(16, kernel_size=3, padding=\"SAME\", activation=\"selu\"),\n",
    "    keras.layers.MaxPool2D(pool_size=2),\n",
    "    keras.layers.Conv2D(32, kernel_size=3, padding=\"SAME\", activation=\"selu\"),\n",
    "    keras.layers.MaxPool2D(pool_size=2),\n",
    "    keras.layers.Conv2D(64, kernel_size=3, padding=\"SAME\", activation=\"selu\"),\n",
    "    keras.layers.MaxPool2D(pool_size=2)\n",
    "])\n",
    "conv_decoder = keras.models.Sequential([\n",
    "    keras.layers.Conv2DTranspose(32, kernel_size=3, strides=2, padding=\"VALID\", activation=\"selu\",\n",
    "                                 input_shape=[3, 3, 64]),\n",
    "    keras.layers.Conv2DTranspose(16, kernel_size=3, strides=2, padding=\"SAME\", activation=\"selu\"),\n",
    "    keras.layers.Conv2DTranspose(1, kernel_size=3, strides=2, padding=\"SAME\", activation=\"sigmoid\"),\n",
    "    keras.layers.Reshape([28, 28])\n",
    "])\n",
    "conv_ae = keras.models.Sequential([conv_encoder, conv_decoder])\n",
    "\n",
    "conv_ae.compile(loss=\"binary_crossentropy\", optimizer=keras.optimizers.SGD(lr=1.0),\n",
    "                metrics=[\"accuracy\"])\n",
    "history = conv_ae.fit(X_train, X_train, epochs=5,\n",
    "                      validation_data=[X_valid, X_valid])"
   ]
  },
  {
   "cell_type": "markdown",
   "metadata": {},
   "source": [
    "The summary of the encoder and decoder."
   ]
  },
  {
   "cell_type": "code",
   "execution_count": 145,
   "metadata": {},
   "outputs": [
    {
     "name": "stdout",
     "output_type": "stream",
     "text": [
      "Model: \"sequential_3\"\n",
      "_________________________________________________________________\n",
      "Layer (type)                 Output Shape              Param #   \n",
      "=================================================================\n",
      "reshape_2 (Reshape)          (None, 28, 28, 1)         0         \n",
      "_________________________________________________________________\n",
      "conv2d_3 (Conv2D)            (None, 28, 28, 16)        160       \n",
      "_________________________________________________________________\n",
      "max_pooling2d_3 (MaxPooling2 (None, 14, 14, 16)        0         \n",
      "_________________________________________________________________\n",
      "conv2d_4 (Conv2D)            (None, 14, 14, 32)        4640      \n",
      "_________________________________________________________________\n",
      "max_pooling2d_4 (MaxPooling2 (None, 7, 7, 32)          0         \n",
      "_________________________________________________________________\n",
      "conv2d_5 (Conv2D)            (None, 7, 7, 64)          18496     \n",
      "_________________________________________________________________\n",
      "max_pooling2d_5 (MaxPooling2 (None, 3, 3, 64)          0         \n",
      "=================================================================\n",
      "Total params: 23,296\n",
      "Trainable params: 23,296\n",
      "Non-trainable params: 0\n",
      "_________________________________________________________________\n",
      "Model: \"sequential_4\"\n",
      "_________________________________________________________________\n",
      "Layer (type)                 Output Shape              Param #   \n",
      "=================================================================\n",
      "conv2d_transpose_3 (Conv2DTr (None, 7, 7, 32)          18464     \n",
      "_________________________________________________________________\n",
      "conv2d_transpose_4 (Conv2DTr (None, 14, 14, 16)        4624      \n",
      "_________________________________________________________________\n",
      "conv2d_transpose_5 (Conv2DTr (None, 28, 28, 1)         145       \n",
      "_________________________________________________________________\n",
      "reshape_3 (Reshape)          (None, 28, 28)            0         \n",
      "=================================================================\n",
      "Total params: 23,233\n",
      "Trainable params: 23,233\n",
      "Non-trainable params: 0\n",
      "_________________________________________________________________\n"
     ]
    }
   ],
   "source": [
    "conv_encoder.summary()\n",
    "conv_decoder.summary()"
   ]
  },
  {
   "cell_type": "markdown",
   "metadata": {},
   "source": [
    "Some visualisation of the reconstructions of some images."
   ]
  },
  {
   "cell_type": "code",
   "execution_count": 146,
   "metadata": {},
   "outputs": [
    {
     "data": {
      "image/png": "[encoded data removed]",
      "text/plain": [
       "<Figure size 540x216 with 10 Axes>"
      ]
     },
     "metadata": {
      "needs_background": "light"
     },
     "output_type": "display_data"
    }
   ],
   "source": [
    "show_reconstructions(conv_ae)\n",
    "plt.show()"
   ]
  },
  {
   "cell_type": "markdown",
   "metadata": {},
   "source": [
    "## Train a regular classifier"
   ]
  },
  {
   "cell_type": "code",
   "execution_count": 191,
   "metadata": {},
   "outputs": [],
   "source": [
    "keras.backend.clear_session()\n",
    "np.random.seed(42)\n",
    "tf.random.set_seed(42)"
   ]
  },
  {
   "cell_type": "code",
   "execution_count": 192,
   "metadata": {},
   "outputs": [],
   "source": [
    "classifier = build_model()"
   ]
  },
  {
   "cell_type": "code",
   "execution_count": 193,
   "metadata": {},
   "outputs": [
    {
     "name": "stdout",
     "output_type": "stream",
     "text": [
      "Train on 54 samples, validate on 5000 samples\n",
      "Epoch 1/50\n",
      "54/54 [==============================] - 1s 22ms/sample - loss: 2.9965 - accuracy: 0.0370 - val_loss: 2.3711 - val_accuracy: 0.1318\n",
      "Epoch 2/50\n",
      "54/54 [==============================] - 0s 5ms/sample - loss: 2.6417 - accuracy: 0.0556 - val_loss: 2.3495 - val_accuracy: 0.1336\n",
      "Epoch 3/50\n",
      "54/54 [==============================] - 0s 6ms/sample - loss: 2.2660 - accuracy: 0.1852 - val_loss: 2.3293 - val_accuracy: 0.1354\n",
      "Epoch 4/50\n",
      "54/54 [==============================] - 0s 6ms/sample - loss: 1.9993 - accuracy: 0.2593 - val_loss: 2.3094 - val_accuracy: 0.1356\n",
      "Epoch 5/50\n",
      "54/54 [==============================] - 0s 6ms/sample - loss: 1.6522 - accuracy: 0.3704 - val_loss: 2.2920 - val_accuracy: 0.1366\n",
      "Epoch 6/50\n",
      "54/54 [==============================] - 0s 5ms/sample - loss: 1.4445 - accuracy: 0.5556 - val_loss: 2.2771 - val_accuracy: 0.1370\n",
      "Epoch 7/50\n",
      "54/54 [==============================] - 0s 6ms/sample - loss: 1.4252 - accuracy: 0.5000 - val_loss: 2.2614 - val_accuracy: 0.1426\n",
      "Epoch 8/50\n",
      "54/54 [==============================] - 0s 6ms/sample - loss: 1.1237 - accuracy: 0.7222 - val_loss: 2.2477 - val_accuracy: 0.1458\n",
      "Epoch 9/50\n",
      "54/54 [==============================] - 0s 6ms/sample - loss: 1.0401 - accuracy: 0.7407 - val_loss: 2.2362 - val_accuracy: 0.1480\n",
      "Epoch 10/50\n",
      "54/54 [==============================] - 0s 6ms/sample - loss: 0.9104 - accuracy: 0.8148 - val_loss: 2.2246 - val_accuracy: 0.1548\n",
      "Epoch 11/50\n",
      "54/54 [==============================] - 0s 5ms/sample - loss: 0.9151 - accuracy: 0.7778 - val_loss: 2.2137 - val_accuracy: 0.1642\n",
      "Epoch 12/50\n",
      "54/54 [==============================] - 0s 6ms/sample - loss: 0.7248 - accuracy: 0.8889 - val_loss: 2.2034 - val_accuracy: 0.1720\n",
      "Epoch 13/50\n",
      "54/54 [==============================] - 0s 5ms/sample - loss: 0.7319 - accuracy: 0.8519 - val_loss: 2.1937 - val_accuracy: 0.1808\n",
      "Epoch 14/50\n",
      "54/54 [==============================] - 0s 6ms/sample - loss: 0.6367 - accuracy: 0.8889 - val_loss: 2.1852 - val_accuracy: 0.1922\n",
      "Epoch 15/50\n",
      "54/54 [==============================] - 0s 5ms/sample - loss: 0.5888 - accuracy: 0.8889 - val_loss: 2.1769 - val_accuracy: 0.2038\n",
      "Epoch 16/50\n",
      "54/54 [==============================] - 0s 6ms/sample - loss: 0.6017 - accuracy: 0.8704 - val_loss: 2.1678 - val_accuracy: 0.2156\n",
      "Epoch 17/50\n",
      "54/54 [==============================] - 0s 6ms/sample - loss: 0.4757 - accuracy: 0.9444 - val_loss: 2.1602 - val_accuracy: 0.2260\n",
      "Epoch 18/50\n",
      "54/54 [==============================] - 0s 5ms/sample - loss: 0.5560 - accuracy: 0.9259 - val_loss: 2.1529 - val_accuracy: 0.2372\n",
      "Epoch 19/50\n",
      "54/54 [==============================] - 0s 6ms/sample - loss: 0.4724 - accuracy: 0.9259 - val_loss: 2.1452 - val_accuracy: 0.2492\n",
      "Epoch 20/50\n",
      "54/54 [==============================] - 0s 6ms/sample - loss: 0.4499 - accuracy: 0.9444 - val_loss: 2.1372 - val_accuracy: 0.2586\n",
      "Epoch 21/50\n",
      "54/54 [==============================] - 0s 6ms/sample - loss: 0.4759 - accuracy: 0.9444 - val_loss: 2.1286 - val_accuracy: 0.2698\n",
      "Epoch 22/50\n",
      "54/54 [==============================] - 0s 5ms/sample - loss: 0.3882 - accuracy: 0.9815 - val_loss: 2.1213 - val_accuracy: 0.2790\n",
      "Epoch 23/50\n",
      "54/54 [==============================] - 0s 6ms/sample - loss: 0.3897 - accuracy: 0.9444 - val_loss: 2.1144 - val_accuracy: 0.2890\n",
      "Epoch 24/50\n",
      "54/54 [==============================] - 0s 6ms/sample - loss: 0.3345 - accuracy: 0.9630 - val_loss: 2.1069 - val_accuracy: 0.2976\n",
      "Epoch 25/50\n",
      "54/54 [==============================] - 0s 6ms/sample - loss: 0.4442 - accuracy: 0.9259 - val_loss: 2.0994 - val_accuracy: 0.3054\n",
      "Epoch 26/50\n",
      "54/54 [==============================] - 0s 6ms/sample - loss: 0.3174 - accuracy: 0.9630 - val_loss: 2.0923 - val_accuracy: 0.3104\n",
      "Epoch 27/50\n",
      "54/54 [==============================] - 0s 6ms/sample - loss: 0.3055 - accuracy: 0.9815 - val_loss: 2.0863 - val_accuracy: 0.3146\n",
      "Epoch 28/50\n",
      "54/54 [==============================] - 0s 6ms/sample - loss: 0.2771 - accuracy: 0.9815 - val_loss: 2.0798 - val_accuracy: 0.3194\n",
      "Epoch 29/50\n",
      "54/54 [==============================] - 0s 6ms/sample - loss: 0.2432 - accuracy: 0.9815 - val_loss: 2.0740 - val_accuracy: 0.3206\n",
      "Epoch 30/50\n",
      "54/54 [==============================] - 0s 6ms/sample - loss: 0.2885 - accuracy: 1.0000 - val_loss: 2.0664 - val_accuracy: 0.3258\n",
      "Epoch 31/50\n",
      "54/54 [==============================] - 0s 6ms/sample - loss: 0.2604 - accuracy: 0.9815 - val_loss: 2.0595 - val_accuracy: 0.3304\n",
      "Epoch 32/50\n",
      "54/54 [==============================] - 0s 6ms/sample - loss: 0.2611 - accuracy: 0.9630 - val_loss: 2.0533 - val_accuracy: 0.3340\n",
      "Epoch 33/50\n",
      "54/54 [==============================] - 0s 6ms/sample - loss: 0.1946 - accuracy: 1.0000 - val_loss: 2.0463 - val_accuracy: 0.3362\n",
      "Epoch 34/50\n",
      "54/54 [==============================] - 0s 5ms/sample - loss: 0.2041 - accuracy: 1.0000 - val_loss: 2.0405 - val_accuracy: 0.3374\n",
      "Epoch 35/50\n",
      "54/54 [==============================] - 0s 6ms/sample - loss: 0.2643 - accuracy: 1.0000 - val_loss: 2.0330 - val_accuracy: 0.3412\n",
      "Epoch 36/50\n",
      "54/54 [==============================] - 0s 6ms/sample - loss: 0.2339 - accuracy: 1.0000 - val_loss: 2.0261 - val_accuracy: 0.3424\n",
      "Epoch 37/50\n",
      "54/54 [==============================] - 0s 6ms/sample - loss: 0.1930 - accuracy: 1.0000 - val_loss: 2.0198 - val_accuracy: 0.3436\n",
      "Epoch 38/50\n",
      "54/54 [==============================] - 0s 6ms/sample - loss: 0.2409 - accuracy: 0.9630 - val_loss: 2.0129 - val_accuracy: 0.3490\n",
      "Epoch 39/50\n",
      "54/54 [==============================] - 0s 6ms/sample - loss: 0.2022 - accuracy: 1.0000 - val_loss: 2.0058 - val_accuracy: 0.3518\n",
      "Epoch 40/50\n",
      "54/54 [==============================] - 0s 6ms/sample - loss: 0.1736 - accuracy: 1.0000 - val_loss: 1.9993 - val_accuracy: 0.3538\n"
     ]
    }
   ],
   "source": [
    "history = classifier.fit(X_train_halved_final, y_train_halved_final, epochs=50, \n",
    "                         validation_data=[X_valid, y_valid], \n",
    "                         callbacks=[keras.callbacks.EarlyStopping(monitor='accuracy', patience=10)])"
   ]
  },
  {
   "cell_type": "code",
   "execution_count": 194,
   "metadata": {},
   "outputs": [
    {
     "data": {
      "image/png": "[encoded data removed]",
      "text/plain": [
       "<Figure size 432x288 with 1 Axes>"
      ]
     },
     "metadata": {
      "needs_background": "light"
     },
     "output_type": "display_data"
    }
   ],
   "source": [
    "import pandas as pd\n",
    "pd.DataFrame(history.history).plot()\n",
    "plt.show()"
   ]
  },
  {
   "cell_type": "code",
   "execution_count": 195,
   "metadata": {},
   "outputs": [
    {
     "name": "stdout",
     "output_type": "stream",
     "text": [
      "10000/10000 [==============================] - 1s 53us/sample - loss: 2.0011 - accuracy: 0.3461\n"
     ]
    },
    {
     "data": {
      "text/plain": [
       "[2.0010685543060305, 0.3461]"
      ]
     },
     "execution_count": 195,
     "metadata": {},
     "output_type": "execute_result"
    }
   ],
   "source": [
    "classifier.evaluate(X_test, y_test)"
   ]
  },
  {
   "cell_type": "markdown",
   "metadata": {},
   "source": [
    "## Transfer the auto encoder layers"
   ]
  },
  {
   "cell_type": "code",
   "execution_count": 181,
   "metadata": {},
   "outputs": [],
   "source": [
    "keras.backend.clear_session()\n",
    "np.random.seed(42)\n",
    "tf.random.set_seed(42)"
   ]
  },
  {
   "cell_type": "code",
   "execution_count": 182,
   "metadata": {},
   "outputs": [],
   "source": [
    "conv_encoder_clone = keras.models.clone_model(conv_encoder)"
   ]
  },
  {
   "cell_type": "code",
   "execution_count": 183,
   "metadata": {},
   "outputs": [],
   "source": [
    "def build_model_ae(auto_encoder, input_shape=[28,28]):\n",
    "    model = keras.models.Sequential()\n",
    "    model.add(auto_encoder)\n",
    "    model.add(keras.layers.Flatten(input_shape=input_shape))\n",
    "    keras.layers.Dense(20, activation=\"relu\")\n",
    "    model.add(keras.layers.Dense(10, activation=\"softmax\")) \n",
    "    return model"
   ]
  },
  {
   "cell_type": "code",
   "execution_count": 184,
   "metadata": {},
   "outputs": [],
   "source": [
    "pretrained_clf = build_model_ae(conv_encoder_clone)"
   ]
  },
  {
   "cell_type": "code",
   "execution_count": 185,
   "metadata": {},
   "outputs": [],
   "source": [
    "conv_encoder_clone.trainable = False\n",
    "pretrained_clf.compile(loss=\"sparse_categorical_crossentropy\",\n",
    "          optimizer=keras.optimizers.SGD(lr=0.02),\n",
    "          metrics=[\"accuracy\"])"
   ]
  },
  {
   "cell_type": "code",
   "execution_count": 186,
   "metadata": {},
   "outputs": [
    {
     "name": "stdout",
     "output_type": "stream",
     "text": [
      "Train on 54 samples, validate on 5000 samples\n",
      "Epoch 1/20\n",
      "54/54 [==============================] - 1s 25ms/sample - loss: 2.3962 - accuracy: 0.0556 - val_loss: 2.3625 - val_accuracy: 0.0948\n",
      "Epoch 2/20\n",
      "54/54 [==============================] - 1s 18ms/sample - loss: 2.3584 - accuracy: 0.0741 - val_loss: 2.3447 - val_accuracy: 0.0732\n",
      "Epoch 3/20\n",
      "54/54 [==============================] - 1s 18ms/sample - loss: 2.3258 - accuracy: 0.0741 - val_loss: 2.3294 - val_accuracy: 0.0880\n",
      "Epoch 4/20\n",
      "54/54 [==============================] - 1s 19ms/sample - loss: 2.2968 - accuracy: 0.1481 - val_loss: 2.3162 - val_accuracy: 0.1002\n",
      "Epoch 5/20\n",
      "54/54 [==============================] - 1s 18ms/sample - loss: 2.2689 - accuracy: 0.1667 - val_loss: 2.3048 - val_accuracy: 0.1012\n",
      "Epoch 6/20\n",
      "54/54 [==============================] - 1s 18ms/sample - loss: 2.2447 - accuracy: 0.1852 - val_loss: 2.2944 - val_accuracy: 0.1068\n",
      "Epoch 7/20\n",
      "54/54 [==============================] - 1s 17ms/sample - loss: 2.2262 - accuracy: 0.2222 - val_loss: 2.2852 - val_accuracy: 0.1172\n",
      "Epoch 8/20\n",
      "54/54 [==============================] - 1s 17ms/sample - loss: 2.2030 - accuracy: 0.2407 - val_loss: 2.2777 - val_accuracy: 0.1246\n",
      "Epoch 9/20\n",
      "54/54 [==============================] - 1s 18ms/sample - loss: 2.1854 - accuracy: 0.2407 - val_loss: 2.2710 - val_accuracy: 0.1294\n",
      "Epoch 10/20\n",
      "54/54 [==============================] - 1s 18ms/sample - loss: 2.1686 - accuracy: 0.2593 - val_loss: 2.2648 - val_accuracy: 0.1408\n",
      "Epoch 11/20\n",
      "54/54 [==============================] - 1s 18ms/sample - loss: 2.1537 - accuracy: 0.2963 - val_loss: 2.2600 - val_accuracy: 0.1532\n",
      "Epoch 12/20\n",
      "54/54 [==============================] - 1s 17ms/sample - loss: 2.1384 - accuracy: 0.2963 - val_loss: 2.2555 - val_accuracy: 0.1654\n",
      "Epoch 13/20\n",
      "54/54 [==============================] - 1s 18ms/sample - loss: 2.1270 - accuracy: 0.3148 - val_loss: 2.2510 - val_accuracy: 0.1776\n",
      "Epoch 14/20\n",
      "54/54 [==============================] - 1s 18ms/sample - loss: 2.1145 - accuracy: 0.3519 - val_loss: 2.2468 - val_accuracy: 0.1870\n",
      "Epoch 15/20\n",
      "54/54 [==============================] - 1s 18ms/sample - loss: 2.1021 - accuracy: 0.3333 - val_loss: 2.2417 - val_accuracy: 0.1986\n",
      "Epoch 16/20\n",
      "54/54 [==============================] - 1s 18ms/sample - loss: 2.0907 - accuracy: 0.3519 - val_loss: 2.2369 - val_accuracy: 0.2060\n",
      "Epoch 17/20\n",
      "54/54 [==============================] - 1s 18ms/sample - loss: 2.0787 - accuracy: 0.3704 - val_loss: 2.2333 - val_accuracy: 0.2112\n",
      "Epoch 18/20\n",
      "54/54 [==============================] - 1s 19ms/sample - loss: 2.0699 - accuracy: 0.4074 - val_loss: 2.2303 - val_accuracy: 0.2180\n",
      "Epoch 19/20\n",
      "54/54 [==============================] - 1s 18ms/sample - loss: 2.0581 - accuracy: 0.3704 - val_loss: 2.2267 - val_accuracy: 0.2220\n",
      "Epoch 20/20\n",
      "54/54 [==============================] - 1s 18ms/sample - loss: 2.0499 - accuracy: 0.3704 - val_loss: 2.2228 - val_accuracy: 0.2298\n"
     ]
    }
   ],
   "source": [
    "history = pretrained_clf.fit(X_train_halved_final, y_train_halved_final, epochs=20,\n",
    "                             validation_data=[X_valid, y_valid],\n",
    "                             callbacks=[keras.callbacks.EarlyStopping(monitor='accuracy', patience=10)])"
   ]
  },
  {
   "cell_type": "code",
   "execution_count": 187,
   "metadata": {},
   "outputs": [],
   "source": [
    "conv_encoder_clone.trainable = True\n",
    "pretrained_clf.compile(loss=\"sparse_categorical_crossentropy\",\n",
    "          optimizer=keras.optimizers.SGD(lr=0.02),\n",
    "          metrics=[\"accuracy\"])"
   ]
  },
  {
   "cell_type": "code",
   "execution_count": 188,
   "metadata": {},
   "outputs": [
    {
     "name": "stdout",
     "output_type": "stream",
     "text": [
      "Train on 54 samples, validate on 5000 samples\n",
      "Epoch 1/30\n",
      "54/54 [==============================] - 2s 32ms/sample - loss: 2.0439 - accuracy: 0.2963 - val_loss: 2.2045 - val_accuracy: 0.2290\n",
      "Epoch 2/30\n",
      "54/54 [==============================] - 1s 19ms/sample - loss: 1.9883 - accuracy: 0.3704 - val_loss: 2.1897 - val_accuracy: 0.2624\n",
      "Epoch 3/30\n",
      "54/54 [==============================] - 1s 19ms/sample - loss: 1.9336 - accuracy: 0.3889 - val_loss: 2.1641 - val_accuracy: 0.3024\n",
      "Epoch 4/30\n",
      "54/54 [==============================] - 1s 19ms/sample - loss: 1.8921 - accuracy: 0.4074 - val_loss: 2.1497 - val_accuracy: 0.3132\n",
      "Epoch 5/30\n",
      "54/54 [==============================] - 1s 18ms/sample - loss: 1.8390 - accuracy: 0.4815 - val_loss: 2.1383 - val_accuracy: 0.3168\n",
      "Epoch 6/30\n",
      "54/54 [==============================] - 1s 19ms/sample - loss: 1.7985 - accuracy: 0.4444 - val_loss: 2.0993 - val_accuracy: 0.3500\n",
      "Epoch 7/30\n",
      "54/54 [==============================] - 1s 19ms/sample - loss: 1.7710 - accuracy: 0.5000 - val_loss: 2.0681 - val_accuracy: 0.3126\n",
      "Epoch 8/30\n",
      "54/54 [==============================] - 1s 19ms/sample - loss: 1.7063 - accuracy: 0.5370 - val_loss: 2.0353 - val_accuracy: 0.3444\n",
      "Epoch 9/30\n",
      "54/54 [==============================] - 1s 18ms/sample - loss: 1.6543 - accuracy: 0.5926 - val_loss: 2.0098 - val_accuracy: 0.3474\n",
      "Epoch 10/30\n",
      "54/54 [==============================] - 1s 19ms/sample - loss: 1.6032 - accuracy: 0.5556 - val_loss: 1.9730 - val_accuracy: 0.3722\n",
      "Epoch 11/30\n",
      "54/54 [==============================] - 1s 19ms/sample - loss: 1.5515 - accuracy: 0.5741 - val_loss: 1.9481 - val_accuracy: 0.3766\n",
      "Epoch 12/30\n",
      "54/54 [==============================] - 1s 19ms/sample - loss: 1.4948 - accuracy: 0.6111 - val_loss: 1.9249 - val_accuracy: 0.3858\n",
      "Epoch 13/30\n",
      "54/54 [==============================] - 1s 19ms/sample - loss: 1.4700 - accuracy: 0.5741 - val_loss: 1.9006 - val_accuracy: 0.3704\n",
      "Epoch 14/30\n",
      "54/54 [==============================] - 1s 19ms/sample - loss: 1.4309 - accuracy: 0.5926 - val_loss: 1.8560 - val_accuracy: 0.3666\n",
      "Epoch 15/30\n",
      "54/54 [==============================] - 1s 19ms/sample - loss: 1.3590 - accuracy: 0.5741 - val_loss: 1.7837 - val_accuracy: 0.4106\n",
      "Epoch 16/30\n",
      "54/54 [==============================] - 1s 19ms/sample - loss: 1.3044 - accuracy: 0.6111 - val_loss: 1.7387 - val_accuracy: 0.4266\n",
      "Epoch 17/30\n",
      "54/54 [==============================] - 1s 19ms/sample - loss: 1.2473 - accuracy: 0.7222 - val_loss: 1.7297 - val_accuracy: 0.4230\n",
      "Epoch 18/30\n",
      "54/54 [==============================] - 1s 19ms/sample - loss: 1.2053 - accuracy: 0.6667 - val_loss: 1.6948 - val_accuracy: 0.4276\n",
      "Epoch 19/30\n",
      "54/54 [==============================] - 1s 19ms/sample - loss: 1.1512 - accuracy: 0.6667 - val_loss: 1.6535 - val_accuracy: 0.4368\n",
      "Epoch 20/30\n",
      "54/54 [==============================] - 1s 18ms/sample - loss: 1.1212 - accuracy: 0.7037 - val_loss: 1.6146 - val_accuracy: 0.4556\n",
      "Epoch 21/30\n",
      "54/54 [==============================] - 1s 18ms/sample - loss: 1.0883 - accuracy: 0.6852 - val_loss: 1.5688 - val_accuracy: 0.4510\n",
      "Epoch 22/30\n",
      "54/54 [==============================] - 1s 19ms/sample - loss: 1.0454 - accuracy: 0.7037 - val_loss: 1.5597 - val_accuracy: 0.4440\n",
      "Epoch 23/30\n",
      "54/54 [==============================] - 1s 18ms/sample - loss: 1.0082 - accuracy: 0.7037 - val_loss: 1.4934 - val_accuracy: 0.4862\n",
      "Epoch 24/30\n",
      "54/54 [==============================] - 1s 19ms/sample - loss: 0.9607 - accuracy: 0.7407 - val_loss: 1.4681 - val_accuracy: 0.4830\n",
      "Epoch 25/30\n",
      "54/54 [==============================] - 1s 19ms/sample - loss: 0.9467 - accuracy: 0.7407 - val_loss: 1.4609 - val_accuracy: 0.4988\n",
      "Epoch 26/30\n",
      "54/54 [==============================] - 1s 19ms/sample - loss: 0.8797 - accuracy: 0.7222 - val_loss: 1.4114 - val_accuracy: 0.5080\n",
      "Epoch 27/30\n",
      "54/54 [==============================] - 1s 19ms/sample - loss: 0.8491 - accuracy: 0.7222 - val_loss: 1.4064 - val_accuracy: 0.4914\n",
      "Epoch 28/30\n",
      "54/54 [==============================] - 1s 19ms/sample - loss: 0.8234 - accuracy: 0.7593 - val_loss: 1.3561 - val_accuracy: 0.4980\n",
      "Epoch 29/30\n",
      "54/54 [==============================] - 1s 19ms/sample - loss: 0.7869 - accuracy: 0.7593 - val_loss: 1.3389 - val_accuracy: 0.5068\n",
      "Epoch 30/30\n",
      "54/54 [==============================] - 1s 19ms/sample - loss: 0.7528 - accuracy: 0.7778 - val_loss: 1.3460 - val_accuracy: 0.5070\n"
     ]
    }
   ],
   "source": [
    "history = pretrained_clf.fit(X_train_halved_final, y_train_halved_final, epochs=30,\n",
    "                             validation_data=[X_valid, y_valid],\n",
    "                             callbacks=[keras.callbacks.EarlyStopping(monitor='accuracy', patience=10)])"
   ]
  },
  {
   "cell_type": "code",
   "execution_count": 189,
   "metadata": {},
   "outputs": [
    {
     "data": {
      "image/png": "[encoded data removed]",
      "text/plain": [
       "<Figure size 432x288 with 1 Axes>"
      ]
     },
     "metadata": {
      "needs_background": "light"
     },
     "output_type": "display_data"
    }
   ],
   "source": [
    "import pandas as pd\n",
    "pd.DataFrame(history.history).plot()\n",
    "plt.show()"
   ]
  },
  {
   "cell_type": "code",
   "execution_count": 190,
   "metadata": {},
   "outputs": [
    {
     "name": "stdout",
     "output_type": "stream",
     "text": [
      "10000/10000 [==============================] - 2s 203us/sample - loss: 1.3643 - accuracy: 0.5031\n"
     ]
    },
    {
     "data": {
      "text/plain": [
       "[1.3642520025253295, 0.5031]"
      ]
     },
     "execution_count": 190,
     "metadata": {},
     "output_type": "execute_result"
    }
   ],
   "source": [
    "pretrained_clf.evaluate(X_test, y_test)"
   ]
  },
  {
   "cell_type": "code",
   "execution_count": null,
   "metadata": {},
   "outputs": [],
   "source": []
  },
  {
   "cell_type": "code",
   "execution_count": null,
   "metadata": {},
   "outputs": [],
   "source": []
  },
  {
   "cell_type": "code",
   "execution_count": null,
   "metadata": {},
   "outputs": [],
   "source": []
  },
  {
   "cell_type": "code",
   "execution_count": null,
   "metadata": {},
   "outputs": [],
   "source": []
  },
  {
   "cell_type": "markdown",
   "metadata": {},
   "source": [
    "## Progress Log"
   ]
  },
  {
   "cell_type": "markdown",
   "metadata": {},
   "source": [
    "1. We acknowledged that we had to make a bunch of training attempts for some particular steps throughout the lab, and the build_model() method saved us the trouble of having to copy the same chunk of code multiple times. We defined the method based on the one in chapter 10 (under Hyperparameter Tuning section), and at first, we ran into a bit troubles as we received some errors while trying to call the method. Obviously, we could not use the same chunk of code in chapter 10 as we were building a different model; therefore, we had to make some changes to the code. But after staring at it for a while, we figured out the problem, that is, the code in chapter 10 used loss=\"mse\" while we needed to use loss=\"sparse_categorical_crossentropy\" instead. "
   ]
  },
  {
   "cell_type": "markdown",
   "metadata": {},
   "source": [
    "2. We defined a method that ran all of the training attemps with different size of the training set, again, to save us the trouble from copying the same block of code over and over again. The accuracy scores throughout the attempts did decrease as the training size was halved on each iteration, exactly like what we expected. After this step, we ended up with a training size of 58 which is obviously less than 100, but we were wondering if this number was too small...  "
   ]
  },
  {
   "cell_type": "markdown",
   "metadata": {},
   "source": [
    "3. [talk about some problems of choosing what kind of autoencoder to use]"
   ]
  },
  {
   "cell_type": "code",
   "execution_count": null,
   "metadata": {},
   "outputs": [],
   "source": []
  },
  {
   "cell_type": "code",
   "execution_count": null,
   "metadata": {},
   "outputs": [],
   "source": []
  },
  {
   "cell_type": "code",
   "execution_count": null,
   "metadata": {},
   "outputs": [],
   "source": []
  },
  {
   "cell_type": "code",
   "execution_count": null,
   "metadata": {},
   "outputs": [],
   "source": []
  }
 ],
 "metadata": {
  "kernelspec": {
   "display_name": "Python 3",
   "language": "python",
   "name": "python3"
  },
  "language_info": {
   "codemirror_mode": {
    "name": "ipython",
    "version": 3
   },
   "file_extension": ".py",
   "mimetype": "text/x-python",
   "name": "python",
   "nbconvert_exporter": "python",
   "pygments_lexer": "ipython3",
   "version": "3.7.4"
  }
 },
 "nbformat": 4,
 "nbformat_minor": 2
}
