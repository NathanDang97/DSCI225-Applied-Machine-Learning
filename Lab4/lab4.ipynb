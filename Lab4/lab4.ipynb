{
 "cells": [
  {
   "cell_type": "markdown",
   "metadata": {},
   "source": [
    "# Setup"
   ]
  },
  {
   "cell_type": "markdown",
   "metadata": {},
   "source": [
    "First, let's import a few common modules, ensure MatplotLib plots figures inline and prepare a function to save the figures. We also check that Python 3.5 or later is installed (although Python 2.x may work, it is deprecated so we strongly recommend you use Python 3 instead), as well as Scikit-Learn ≥0.20."
   ]
  },
  {
   "cell_type": "code",
   "execution_count": 1,
   "metadata": {},
   "outputs": [],
   "source": [
    "# Python ≥3.5 is required\n",
    "import sys\n",
    "assert sys.version_info >= (3, 5)\n",
    "\n",
    "# Scikit-Learn ≥0.20 is required\n",
    "import sklearn\n",
    "assert sklearn.__version__ >= \"0.20\"\n",
    "\n",
    "from sklearn.linear_model import SGDClassifier\n",
    "from sklearn.model_selection import cross_val_score\n",
    "\n",
    "\n",
    "# Common imports\n",
    "import numpy as np\n",
    "import os\n",
    "\n",
    "# to make this notebook's output stable across runs\n",
    "np.random.seed(42)\n",
    "\n",
    "# To plot pretty figures\n",
    "%matplotlib inline\n",
    "import matplotlib as mpl\n",
    "import matplotlib.pyplot as plt\n",
    "mpl.rc('axes', labelsize=14)\n",
    "mpl.rc('xtick', labelsize=12)\n",
    "mpl.rc('ytick', labelsize=12)\n",
    "\n",
    "# Where to save the figures\n",
    "PROJECT_ROOT_DIR = \".\"\n",
    "CHAPTER_ID = \"classification\"\n",
    "IMAGES_PATH = os.path.join(PROJECT_ROOT_DIR, \"images\", CHAPTER_ID)\n",
    "os.makedirs(IMAGES_PATH, exist_ok=True)\n",
    "\n",
    "def save_fig(fig_id, tight_layout=True, fig_extension=\"png\", resolution=300):\n",
    "    path = os.path.join(IMAGES_PATH, fig_id + \".\" + fig_extension)\n",
    "    print(\"Saving figure\", fig_id)\n",
    "    if tight_layout:\n",
    "        plt.tight_layout()\n",
    "    plt.savefig(path, format=fig_extension, dpi=resolution)"
   ]
  },
  {
   "cell_type": "markdown",
   "metadata": {},
   "source": [
    "# Timing code\n",
    "\n",
    "(borrowed from https://stackoverflow.com/questions/7370801/measure-time-elapsed-in-python)"
   ]
  },
  {
   "cell_type": "code",
   "execution_count": 2,
   "metadata": {},
   "outputs": [],
   "source": [
    "from contextlib import contextmanager\n",
    "from timeit import default_timer\n",
    "\n",
    "@contextmanager\n",
    "def elapsed_timer():\n",
    "    start = default_timer()\n",
    "    elapser = lambda: default_timer() - start\n",
    "    yield lambda: elapser()\n",
    "    end = default_timer()\n",
    "    elapser = lambda: end-start"
   ]
  },
  {
   "cell_type": "code",
   "execution_count": 3,
   "metadata": {},
   "outputs": [
    {
     "name": "stdout",
     "output_type": "stream",
     "text": [
      "0.15074590499989426\n",
      "0.2894640349998099\n"
     ]
    }
   ],
   "source": [
    "with elapsed_timer() as my_timer:\n",
    "    sum = 0\n",
    "    for x in range(1000000):\n",
    "        sum += x\n",
    "    print(my_timer())\n",
    "    for x in range(1000000):\n",
    "        sum += x\n",
    "     \n",
    "print(my_timer())"
   ]
  },
  {
   "cell_type": "markdown",
   "metadata": {},
   "source": [
    "# MNIST"
   ]
  },
  {
   "cell_type": "code",
   "execution_count": 4,
   "metadata": {},
   "outputs": [
    {
     "data": {
      "text/plain": [
       "dict_keys(['data', 'target', 'feature_names', 'DESCR', 'details', 'categories', 'url'])"
      ]
     },
     "execution_count": 4,
     "metadata": {},
     "output_type": "execute_result"
    }
   ],
   "source": [
    "from sklearn.datasets import fetch_openml\n",
    "mnist = fetch_openml('mnist_784', version=1)\n",
    "mnist.keys()"
   ]
  },
  {
   "cell_type": "code",
   "execution_count": 5,
   "metadata": {},
   "outputs": [
    {
     "data": {
      "text/plain": [
       "(70000, 784)"
      ]
     },
     "execution_count": 5,
     "metadata": {},
     "output_type": "execute_result"
    }
   ],
   "source": [
    "X, y = mnist[\"data\"], mnist[\"target\"]\n",
    "X.shape"
   ]
  },
  {
   "cell_type": "code",
   "execution_count": 6,
   "metadata": {},
   "outputs": [],
   "source": [
    "y = y.astype(np.uint8)"
   ]
  },
  {
   "cell_type": "code",
   "execution_count": 7,
   "metadata": {},
   "outputs": [
    {
     "data": {
      "text/plain": [
       "(60000, 784)"
      ]
     },
     "execution_count": 7,
     "metadata": {},
     "output_type": "execute_result"
    }
   ],
   "source": [
    "X_train, X_test, y_train, y_test = X[:60000], X[60000:], y[:60000], y[60000:]\n",
    "some_digit = X[0]\n",
    "X_train.shape"
   ]
  },
  {
   "cell_type": "markdown",
   "metadata": {},
   "source": [
    "# Multiclass classification"
   ]
  },
  {
   "cell_type": "code",
   "execution_count": 8,
   "metadata": {},
   "outputs": [],
   "source": [
    "from sklearn.linear_model import SGDClassifier\n",
    "\n",
    "sgd_clf = SGDClassifier(max_iter=1000, tol=1e-3, random_state=42)"
   ]
  },
  {
   "cell_type": "code",
   "execution_count": 21,
   "metadata": {},
   "outputs": [
    {
     "name": "stdout",
     "output_type": "stream",
     "text": [
      "svm_clf.fit took 1.799 secs\n"
     ]
    },
    {
     "data": {
      "text/plain": [
       "array([5], dtype=uint8)"
      ]
     },
     "execution_count": 21,
     "metadata": {},
     "output_type": "execute_result"
    }
   ],
   "source": [
    "from sklearn.svm import SVC\n",
    "\n",
    "svm_clf = SVC(gamma=\"auto\", random_state=42)\n",
    "svm_clf.fit(X_train[:1000], y_train[:1000]) \n",
    "\n",
    "with elapsed_timer() as svm_timer:\n",
    "    svm_clf.fit(X_train[:1000], y_train[:1000])\n",
    "print(f\"svm_clf.fit took {svm_timer():.3f} secs\")\n",
    "\n",
    "svm_clf.predict([some_digit])"
   ]
  },
  {
   "cell_type": "markdown",
   "metadata": {},
   "source": [
    "#### Timer: svm_clf.fit took 1.799 secs"
   ]
  },
  {
   "cell_type": "code",
   "execution_count": 22,
   "metadata": {},
   "outputs": [
    {
     "name": "stdout",
     "output_type": "stream",
     "text": [
      "ovr_clf.fit took 10.391 secs\n"
     ]
    },
    {
     "data": {
      "text/plain": [
       "array([5], dtype=uint8)"
      ]
     },
     "execution_count": 22,
     "metadata": {},
     "output_type": "execute_result"
    }
   ],
   "source": [
    "from sklearn.multiclass import OneVsRestClassifier\n",
    "\n",
    "ovr_clf = OneVsRestClassifier(SVC(gamma=\"auto\", random_state=42))\n",
    "ovr_clf.fit(X_train[:1000], y_train[:1000])\n",
    "\n",
    "with elapsed_timer() as ovr_timer:\n",
    "    ovr_clf.fit(X_train[:1000], y_train[:1000])\n",
    "print(f\"ovr_clf.fit took {ovr_timer():.3f} secs\")\n",
    "\n",
    "ovr_clf.predict([some_digit])"
   ]
  },
  {
   "cell_type": "markdown",
   "metadata": {},
   "source": [
    "#### Timer: ovr_clf.fit took 10.391 secs"
   ]
  },
  {
   "cell_type": "code",
   "execution_count": 11,
   "metadata": {},
   "outputs": [
    {
     "data": {
      "text/plain": [
       "10"
      ]
     },
     "execution_count": 11,
     "metadata": {},
     "output_type": "execute_result"
    }
   ],
   "source": [
    "len(ovr_clf.estimators_)"
   ]
  },
  {
   "cell_type": "code",
   "execution_count": 12,
   "metadata": {},
   "outputs": [
    {
     "name": "stdout",
     "output_type": "stream",
     "text": [
      "sgd_clf.fit took 149.187 secs\n"
     ]
    },
    {
     "data": {
      "text/plain": [
       "array([3], dtype=uint8)"
      ]
     },
     "execution_count": 12,
     "metadata": {},
     "output_type": "execute_result"
    }
   ],
   "source": [
    "with elapsed_timer() as sgd_timer:\n",
    "    sgd_clf.fit(X_train, y_train)\n",
    "print(f\"sgd_clf.fit took {sgd_timer():.3f} secs\")\n",
    "sgd_clf.predict([some_digit])"
   ]
  },
  {
   "cell_type": "markdown",
   "metadata": {},
   "source": [
    "#### Timer: sgd_clf.fit took 149.187 secs"
   ]
  },
  {
   "cell_type": "code",
   "execution_count": 13,
   "metadata": {},
   "outputs": [
    {
     "data": {
      "text/plain": [
       "array([[-31893.03095419, -34419.69069632,  -9530.63950739,\n",
       "          1823.73154031, -22320.14822878,  -1385.80478895,\n",
       "        -26188.91070951, -16147.51323997,  -4604.35491274,\n",
       "        -12050.767298  ]])"
      ]
     },
     "execution_count": 13,
     "metadata": {},
     "output_type": "execute_result"
    }
   ],
   "source": [
    "sgd_clf.decision_function([some_digit])"
   ]
  },
  {
   "cell_type": "code",
   "execution_count": 14,
   "metadata": {},
   "outputs": [
    {
     "data": {
      "text/plain": [
       "array([0.87082583, 0.87089354, 0.88628294])"
      ]
     },
     "execution_count": 14,
     "metadata": {},
     "output_type": "execute_result"
    }
   ],
   "source": [
    "cross_val_score(sgd_clf, X_train, y_train, cv=3, scoring=\"accuracy\")"
   ]
  },
  {
   "cell_type": "code",
   "execution_count": 15,
   "metadata": {},
   "outputs": [
    {
     "name": "stderr",
     "output_type": "stream",
     "text": [
      "/Users/charliepoff-webster/anaconda3/lib/python3.7/site-packages/sklearn/linear_model/stochastic_gradient.py:561: ConvergenceWarning: Maximum number of iteration reached before convergence. Consider increasing max_iter to improve the fit.\n",
      "  ConvergenceWarning)\n"
     ]
    },
    {
     "data": {
      "text/plain": [
       "array([0.89957009, 0.89344467, 0.89963495])"
      ]
     },
     "execution_count": 15,
     "metadata": {},
     "output_type": "execute_result"
    }
   ],
   "source": [
    "from sklearn.preprocessing import StandardScaler\n",
    "scaler = StandardScaler()\n",
    "X_train_scaled = scaler.fit_transform(X_train.astype(np.float64))\n",
    "cross_val_score(sgd_clf, X_train_scaled, y_train, cv=3, scoring=\"accuracy\")"
   ]
  },
  {
   "cell_type": "code",
   "execution_count": 16,
   "metadata": {},
   "outputs": [
    {
     "name": "stderr",
     "output_type": "stream",
     "text": [
      "/Users/charliepoff-webster/anaconda3/lib/python3.7/site-packages/sklearn/linear_model/stochastic_gradient.py:561: ConvergenceWarning: Maximum number of iteration reached before convergence. Consider increasing max_iter to improve the fit.\n",
      "  ConvergenceWarning)\n"
     ]
    },
    {
     "data": {
      "text/plain": [
       "array([[5576,    0,   21,    6,    9,   43,   37,    6,  224,    1],\n",
       "       [   0, 6398,   38,   23,    4,   44,    4,    8,  213,   10],\n",
       "       [  26,   27, 5242,   90,   71,   26,   62,   36,  371,    7],\n",
       "       [  24,   17,  117, 5220,    2,  208,   28,   40,  405,   70],\n",
       "       [  12,   14,   48,   10, 5192,   10,   36,   26,  330,  164],\n",
       "       [  28,   15,   33,  166,   55, 4437,   76,   14,  538,   59],\n",
       "       [  30,   14,   41,    2,   43,   95, 5560,    4,  128,    1],\n",
       "       [  21,    9,   52,   27,   51,   12,    3, 5693,  188,  209],\n",
       "       [  17,   63,   46,   90,    3,  125,   25,   10, 5429,   43],\n",
       "       [  23,   18,   31,   66,  116,   32,    1,  179,  377, 5106]])"
      ]
     },
     "execution_count": 16,
     "metadata": {},
     "output_type": "execute_result"
    }
   ],
   "source": [
    "from sklearn.model_selection import cross_val_predict\n",
    "from sklearn.metrics import confusion_matrix\n",
    "\n",
    "y_train_pred = cross_val_predict(sgd_clf, X_train_scaled, y_train, cv=3)\n",
    "conf_mx = confusion_matrix(y_train, y_train_pred)\n",
    "conf_mx"
   ]
  },
  {
   "cell_type": "markdown",
   "metadata": {},
   "source": [
    "## KNN classifier"
   ]
  },
  {
   "cell_type": "code",
   "execution_count": 17,
   "metadata": {},
   "outputs": [
    {
     "data": {
      "text/plain": [
       "KNeighborsClassifier(algorithm='auto', leaf_size=30, metric='minkowski',\n",
       "                     metric_params=None, n_jobs=None, n_neighbors=4, p=2,\n",
       "                     weights='distance')"
      ]
     },
     "execution_count": 17,
     "metadata": {},
     "output_type": "execute_result"
    }
   ],
   "source": [
    "from sklearn.neighbors import KNeighborsClassifier\n",
    "knn_clf = KNeighborsClassifier(weights='distance', n_neighbors=4)\n",
    "knn_clf.fit(X_train, y_train)"
   ]
  },
  {
   "cell_type": "code",
   "execution_count": 18,
   "metadata": {},
   "outputs": [],
   "source": [
    "y_knn_pred = knn_clf.predict(X_test)"
   ]
  },
  {
   "cell_type": "code",
   "execution_count": 19,
   "metadata": {},
   "outputs": [
    {
     "data": {
      "text/plain": [
       "0.9714"
      ]
     },
     "execution_count": 19,
     "metadata": {},
     "output_type": "execute_result"
    }
   ],
   "source": [
    "from sklearn.metrics import accuracy_score\n",
    "accuracy_score(y_test, y_knn_pred)"
   ]
  },
  {
   "cell_type": "markdown",
   "metadata": {},
   "source": [
    "## SVC vs OneVsRestClassifiers\n",
    "\n",
    "Wrap the training for the SVC and OneVsRestClassifiers in timing constructs so you can see how long they take. Then conduct some experiments in which you try successively larger amounts of training data, doubling the size a few times to get a sense of the underlying complexity. You probably want to set up these experiments so they complete without interaction and then run them while you go read your book (or take a long nap :-)."
   ]
  },
  {
   "cell_type": "code",
   "execution_count": null,
   "metadata": {},
   "outputs": [],
   "source": [
    "def versusComplexityTest(sizes):\n",
    "    svc_times = []\n",
    "    ovr_times = []\n",
    "    \n",
    "    for size in sizes:\n",
    "        svc_clf = SVC(gamma=\"auto\", random_state=42)\n",
    "        with elapsed_timer() as svc_timer:\n",
    "            svc_clf.fit(X_train[:size], y_train[:size])\n",
    "        svc_times.append((size, svc_timer))\n",
    "        \n",
    "        ovr_clf = OneVsRestClassifier(SVC(gamme=\"auto\", random_state=42))\n",
    "        with elapsed_timer() as ovr_timer:\n",
    "            ovr_clf.fit(X_train[:size], y_train[:size])\n",
    "        ovr_times.append((size, ovr_timer))\n",
    "        \n",
    "    print(svc_times)\n",
    "    print(ovr_times)"
   ]
  },
  {
   "cell_type": "code",
   "execution_count": null,
   "metadata": {},
   "outputs": [],
   "source": [
    "versusComplexityTest([1000, 2000, 4000])"
   ]
  },
  {
   "cell_type": "markdown",
   "metadata": {},
   "source": [
    "## Speeding Things Up, pt. 1\n",
    "\n",
    "Consider the image on p. 199 of the book (or find the same in the notebook for chapter 7). This suggests that maybe we could train and predict on a smaller image and still do pretty well. Begin by just removing pixels around the edges of the image - how many is up to you. Hint: reshape the image from (784,) to (28, 28) and then use Numpy slicing (that's the : operator) to do this, then reshape back to one dimension. Remember to do the same thing when you predict!\n",
    "\n",
    "Now try the same thing, but this time actually use the importance values generated in the book, pick a few thresholds and subsample the images using only the most important pixels. You'll want to look at how to use what Numpy calls \"masking\" here."
   ]
  },
  {
   "cell_type": "code",
   "execution_count": 308,
   "metadata": {},
   "outputs": [],
   "source": [
    "X_train_reshape = np.zeros((60000, 484)) # 22*22 = 484\n",
    "X_test_reshape = np.zeros((10000, 484))\n",
    "\n",
    "def plot_digit(data):\n",
    "    image = data.reshape(28, 28)\n",
    "    plt.imshow(image[4:26,4:26], cmap = mpl.cm.hot, interpolation=\"nearest\")\n",
    "    plt.axis(\"off\")\n",
    "\n",
    "def crop_data(data, row_index, train_vs_test):\n",
    "    image = data.reshape(28, 28)\n",
    "    if train_vs_test:\n",
    "        X_train_reshape[row_index] = np.reshape(image[4:26, 4:26], (484,))\n",
    "    else:\n",
    "        X_test_reshape[row_index] = np.reshape(image[4:26, 4:26], (484,))"
   ]
  },
  {
   "cell_type": "code",
   "execution_count": 309,
   "metadata": {
    "scrolled": true
   },
   "outputs": [],
   "source": [
    "for number in range(0, 10):\n",
    "    plot_digit(X_train[number])\n",
    "    cbar = plt.colorbar(ticks=[X_train[number].min(), X_train[number].max()])\n",
    "    cbar.ax.set_yticklabels(['Not important', 'Very important'])\n",
    "    plt.show()\n",
    "\n",
    "for number in range(0, 60000):\n",
    "    crop_data(X_train[number], number, True)\n",
    "    \n",
    "for number in range(0, 10000):\n",
    "    crop_data(X_test[number], number, False)"
   ]
  },
  {
   "cell_type": "code",
   "execution_count": 310,
   "metadata": {},
   "outputs": [
    {
     "data": {
      "text/plain": [
       "KNeighborsClassifier(algorithm='auto', leaf_size=30, metric='minkowski',\n",
       "                     metric_params=None, n_jobs=None, n_neighbors=4, p=2,\n",
       "                     weights='distance')"
      ]
     },
     "execution_count": 310,
     "metadata": {},
     "output_type": "execute_result"
    }
   ],
   "source": [
    "from sklearn.neighbors import KNeighborsClassifier\n",
    "knn_clf = KNeighborsClassifier(weights='distance', n_neighbors=4)\n",
    "knn_clf.fit(X_train_reshape, y_train)"
   ]
  },
  {
   "cell_type": "code",
   "execution_count": 311,
   "metadata": {},
   "outputs": [],
   "source": [
    "y_knn_pred = knn_clf.predict(X_test_reshape)"
   ]
  },
  {
   "cell_type": "code",
   "execution_count": 312,
   "metadata": {},
   "outputs": [
    {
     "data": {
      "text/plain": [
       "0.9712"
      ]
     },
     "execution_count": 312,
     "metadata": {},
     "output_type": "execute_result"
    }
   ],
   "source": [
    "from sklearn.metrics import accuracy_score\n",
    "accuracy_score(y_test, y_knn_pred)"
   ]
  },
  {
   "cell_type": "markdown",
   "metadata": {},
   "source": [
    "This isn't surprising that the accuracy score is basically the same as the earlier accuracy score. What is more important is how long it takes."
   ]
  },
  {
   "cell_type": "markdown",
   "metadata": {},
   "source": [
    "Now to compare we will use a random forest classifier so that we can minimize the data using feature_importances_"
   ]
  },
  {
   "cell_type": "code",
   "execution_count": null,
   "metadata": {},
   "outputs": [],
   "source": [
    "from sklearn.ensemble import RandomForestClassifier\n",
    "\n",
    "rnd_clf = RandomForestClassifier(n_estimators=10, random_state=42)\n",
    "rnd_clf.fit(X_train, y_train)"
   ]
  },
  {
   "cell_type": "code",
   "execution_count": 250,
   "metadata": {},
   "outputs": [],
   "source": [
    "import numpy.ma as ma\n",
    "\n",
    "X_train_reshape_forest_threshold = []\n",
    "\n",
    "def plot_digit_combined_mask(data, threshold):\n",
    "    mask_array = []\n",
    "    for i in data:\n",
    "        if i < threshold:\n",
    "            mask_array.append(1)\n",
    "        else:\n",
    "            mask_array.append(0)\n",
    "            if (threshold == .001):\n",
    "                X_train_reshape_forest_threshold.append(i)\n",
    "            \n",
    "    image_mask = ma.masked_array(data.reshape(28, 28), mask_array)\n",
    "    plt.imshow(image_mask, cmap = mpl.cm.hot, interpolation=\"nearest\")  \n",
    "    plt.title(\"Threshold: \" + str(threshold))\n",
    "    plt.axis(\"off\")"
   ]
  },
  {
   "cell_type": "code",
   "execution_count": 251,
   "metadata": {
    "scrolled": true
   },
   "outputs": [
    {
     "data": {
      "image/png": "[encoded data removed]",
      "text/plain": [
       "<Figure size 432x288 with 2 Axes>"
      ]
     },
     "metadata": {
      "needs_background": "light"
     },
     "output_type": "display_data"
    },
    {
     "data": {
      "image/png": "[encoded data removed]",
      "text/plain": [
       "<Figure size 432x288 with 2 Axes>"
      ]
     },
     "metadata": {
      "needs_background": "light"
     },
     "output_type": "display_data"
    },
    {
     "data": {
      "image/png": "[encoded data removed]",
      "text/plain": [
       "<Figure size 432x288 with 2 Axes>"
      ]
     },
     "metadata": {
      "needs_background": "light"
     },
     "output_type": "display_data"
    }
   ],
   "source": [
    "thresholds = [.001, .0006, .0001]\n",
    "\n",
    "for threshold in thresholds:\n",
    "    plot_digit_combined_mask(rnd_clf.feature_importances_, threshold)\n",
    "    cbar = plt.colorbar(ticks=[threshold*2, rnd_clf.feature_importances_.max()])\n",
    "    cbar.ax.set_yticklabels(['Not important', 'Very important'])\n",
    "    plt.show()"
   ]
  },
  {
   "cell_type": "markdown",
   "metadata": {},
   "source": [
    "Now use masking on each of the 60000 images:"
   ]
  },
  {
   "cell_type": "code",
   "execution_count": 379,
   "metadata": {},
   "outputs": [],
   "source": [
    "# X_train_reshape_mask = []\n",
    "# X_test_reshape_mask = []\n",
    "\n",
    "# def plot_digit_threshold_mask(data):\n",
    "#     mask_array = []\n",
    "#     for i in data:\n",
    "#         if i < .001:\n",
    "#             mask_array.append(1)\n",
    "#         else:\n",
    "#             mask_array.append(0)\n",
    "#             if (threshold == .001):\n",
    "#                 X_train_reshape_mask.append(i)\n",
    "\n",
    "#     image_mask = ma.masked_array(data.reshape(28, 28), mask_array)\n",
    "#     plt.imshow(image_mask, cmap = mpl.cm.hot, interpolation=\"nearest\")  \n",
    "#     plt.axis(\"off\")\n",
    "\n",
    "# def crop_data_threshold_mask(data, row_index, train_vs_test):\n",
    "    \n",
    "#     mask_array_train = []\n",
    "#     mask_array_test = []\n",
    "#     for i in data:\n",
    "#         if i < .001:\n",
    "#             # mask_array.append(1)\n",
    "#             x = 1\n",
    "#         else:\n",
    "#             # mask_array.append(0)\n",
    "#             if (threshold < .001):\n",
    "#                 if train_vs_test:\n",
    "#     #                     X_train_reshape_mask.append(i)\n",
    "#                     mask_array_train.append(i)\n",
    "#                 else:\n",
    "#                     # X_test_reshape_mask.append(i)\n",
    "#                     mask_array_test.append(i)\n",
    "\n",
    "#     if train_vs_test:\n",
    "#         X_train_reshape_mask[row_index] = np.reshape(mask_array_train, (len(mask_array_train),))\n",
    "#     else:\n",
    "#         X_test_reshape_mask[row_index] = np.reshape(mask_array_test, (len(mask_array_test),))\n",
    "        \n",
    "# # #     image_mask = ma.masked_array(data.reshape(28, 28), mask_array)\n",
    "# #     if train_vs_test:\n",
    "# #         for data in mask_array:\n",
    "# # #             X_train_reshape_mask[row_index][np.reshape(np.asmatrix(X_train_reshape_mask), (X_train_reshape_mask.size, 1))]\n",
    "# #             X_train_reshape_mask[row_index][data]\n",
    "# #     else:\n",
    "# # #         X_test_reshape_mask[row_index][np.reshape(X_train_reshape_mask, (X_train_reshape_mask.size, 1))]\n",
    "# #         for data in mask_array:\n",
    "# #             X_test_reshape_mask[row_index][data]\n",
    "\n",
    "X_train_reshape_mask = np.zeros((60000, 484))\n",
    "X_test_reshape_mask = np.zeros((10000, 484))\n",
    "\n",
    "def plot_digit_threshold_mask(data):\n",
    "    mask_array = []\n",
    "    for i in data:\n",
    "        if i < .001:\n",
    "            mask_array.append(1)\n",
    "        else:\n",
    "            mask_array.append(0)\n",
    "            X_train_reshape_mask.append(i)\n",
    "\n",
    "    image_mask = ma.masked_array(data.reshape(28, 28), mask_array)\n",
    "    plt.imshow(image_mask, cmap = mpl.cm.hot, interpolation=\"nearest\")  \n",
    "    plt.axis(\"off\")\n",
    "\n",
    "def crop_data_threshold_mask(data, row_index, train_vs_test):\n",
    "    mask_array_train = []\n",
    "    mask_array_test = []\n",
    "    for i in data:\n",
    "        if i > .001:\n",
    "            if train_vs_test:\n",
    "                mask_array_train.append(i)\n",
    "            else:\n",
    "                mask_array_test.append(i)\n",
    "\n",
    "    if train_vs_test:\n",
    "        for i in range(0, len(mask_array_train)):\n",
    "            X_train_reshape_mask[row_index][i] = mask_array_train[i]\n",
    "#         X_train_reshape_mask[row_index] = np.reshape(mask_array_train, (len(mask_array_train),))\n",
    "    else:\n",
    "        for i in range(0, len(mask_array_test)):\n",
    "            X_test_reshape_mask[row_index][i] = mask_array_test[i]\n",
    "#         X_test_reshape_mask[row_index] = np.reshape(mask_array_test, (len(mask_array_test),))"
   ]
  },
  {
   "cell_type": "code",
   "execution_count": 380,
   "metadata": {},
   "outputs": [],
   "source": [
    "for number in range(0, 10):\n",
    "    plot_digit_threshold_mask(X_train[number])\n",
    "    cbar = plt.colorbar(ticks=[.001, X_train[number].max()])\n",
    "    cbar.ax.set_yticklabels(['Not important', 'Very important'])\n",
    "    plt.show()\n",
    "\n",
    "for number in range(0, 60000):\n",
    "    crop_data_threshold_mask(X_train[number], number, True)\n",
    "    \n",
    "for number in range(0, 10000):\n",
    "    crop_data_threshold_mask(X_test[number], number, False)"
   ]
  },
  {
   "cell_type": "code",
   "execution_count": 381,
   "metadata": {},
   "outputs": [
    {
     "name": "stdout",
     "output_type": "stream",
     "text": [
      "[[  3.  18.  18. ...   0.   0.   0.]\n",
      " [ 51. 159. 253. ...   0.   0.   0.]\n",
      " [ 67. 232.  39. ...   0.   0.   0.]\n",
      " ...\n",
      " [ 96. 121. 213. ...   0.   0.   0.]\n",
      " [ 55. 192. 230. ...   0.   0.   0.]\n",
      " [ 38.  48.  48. ...   0.   0.   0.]]\n"
     ]
    }
   ],
   "source": [
    "print(X_train_reshape_mask)"
   ]
  },
  {
   "cell_type": "code",
   "execution_count": 382,
   "metadata": {},
   "outputs": [
    {
     "data": {
      "text/plain": [
       "KNeighborsClassifier(algorithm='auto', leaf_size=30, metric='minkowski',\n",
       "                     metric_params=None, n_jobs=None, n_neighbors=4, p=2,\n",
       "                     weights='distance')"
      ]
     },
     "execution_count": 382,
     "metadata": {},
     "output_type": "execute_result"
    }
   ],
   "source": [
    "from sklearn.neighbors import KNeighborsClassifier\n",
    "knn_clf = KNeighborsClassifier(weights='distance', n_neighbors=4)\n",
    "knn_clf.fit(X_train_reshape_mask, y_train)"
   ]
  },
  {
   "cell_type": "code",
   "execution_count": 383,
   "metadata": {},
   "outputs": [],
   "source": [
    "y_knn_pred = knn_clf.predict(X_test_reshape_mask)"
   ]
  },
  {
   "cell_type": "code",
   "execution_count": 384,
   "metadata": {},
   "outputs": [
    {
     "data": {
      "text/plain": [
       "0.5884"
      ]
     },
     "execution_count": 384,
     "metadata": {},
     "output_type": "execute_result"
    }
   ],
   "source": [
    "from sklearn.metrics import accuracy_score\n",
    "accuracy_score(y_test, y_knn_pred)"
   ]
  },
  {
   "cell_type": "markdown",
   "metadata": {},
   "source": [
    "## Speeding Things Up, pt. 2\n",
    "\n",
    "Use PCA to reduce the dimensionality of the space. Directly compare this approach with your results in part 1 by choosing a reduced input space of the same size you experimented with there. Then also try the reduction that preserves just more than 80% of the variance and see how that performs in terms of accuracy."
   ]
  },
  {
   "cell_type": "code",
   "execution_count": null,
   "metadata": {},
   "outputs": [],
   "source": []
  },
  {
   "cell_type": "code",
   "execution_count": null,
   "metadata": {},
   "outputs": [],
   "source": []
  }
 ],
 "metadata": {
  "kernel_info": {
   "name": "python3"
  },
  "kernelspec": {
   "display_name": "Python 3",
   "language": "python",
   "name": "python3"
  },
  "language_info": {
   "codemirror_mode": {
    "name": "ipython",
    "version": 3
   },
   "file_extension": ".py",
   "mimetype": "text/x-python",
   "name": "python",
   "nbconvert_exporter": "python",
   "pygments_lexer": "ipython3",
   "version": "3.7.4"
  },
  "nav_menu": {},
  "nteract": {
   "version": "0.15.0"
  },
  "toc": {
   "navigate_menu": true,
   "number_sections": true,
   "sideBar": true,
   "threshold": 6,
   "toc_cell": false,
   "toc_section_display": "block",
   "toc_window_display": false
  }
 },
 "nbformat": 4,
 "nbformat_minor": 1
}
